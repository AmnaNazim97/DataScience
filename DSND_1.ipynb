{
 "cells": [
  {
   "cell_type": "code",
   "execution_count": 1,
   "metadata": {},
   "outputs": [],
   "source": [
    "from sklearn import svm "
   ]
  },
  {
   "cell_type": "code",
   "execution_count": 2,
   "metadata": {},
   "outputs": [
    {
     "data": {
      "text/plain": [
       "SVC(C=1.0, break_ties=False, cache_size=200, class_weight=None, coef0=0.0,\n",
       "    decision_function_shape='ovr', degree=3, gamma='scale', kernel='rbf',\n",
       "    max_iter=-1, probability=False, random_state=None, shrinking=True,\n",
       "    tol=0.001, verbose=False)"
      ]
     },
     "execution_count": 2,
     "metadata": {},
     "output_type": "execute_result"
    }
   ],
   "source": [
    "x = [[0,0], [1,1]]\n",
    "y = [0,1]\n",
    "clf = svm.SVC()\n",
    "clf.fit(x,y)"
   ]
  },
  {
   "cell_type": "code",
   "execution_count": 3,
   "metadata": {},
   "outputs": [],
   "source": [
    "class Pants:\n",
    "    def __init__(self, color, waist_size, length , price):\n",
    "        self.color= color\n",
    "        self.waist_size = waist_size\n",
    "        self.length = length\n",
    "        self.price = price\n",
    "        \n",
    "    def price_change(self, price):\n",
    "        self.price = new_price\n",
    "        \n",
    "    def discount(self, percentage):\n",
    "        return self.price* (1-percentage)"
   ]
  },
  {
   "cell_type": "code",
   "execution_count": 6,
   "metadata": {},
   "outputs": [],
   "source": [
    "#Gaussian Code \n",
    "import math \n",
    "import matplotlib.pyplot as plt\n",
    "\n",
    "class Guassian():\n",
    "    def __init__(self, mu= 0, sigma =1):\n",
    "        self.mean= mu\n",
    "        self.stdev = sigma\n",
    "        self.data = []\n",
    "        \n",
    "    def calculate_mean(self):\n",
    "        avg = 1.0 * sum(self.data)/ len(self.data)\n",
    "        \n",
    "        self.mean = avg\n",
    "        return self.mean\n",
    "    \n",
    "    def calculate_stdev(self, sample=True):\n",
    "        if sample:\n",
    "            n= len(self.data)\n",
    "        else:\n",
    "            n= len(self.data)\n",
    "            \n",
    "        mean = self.mean\n",
    "        sigma=0\n",
    "        \n",
    "        for d in self.data:\n",
    "            sigma += (d - mean )**2\n",
    "            \n",
    "        sigma = math.sqrt(sigma/n)\n",
    "        \n",
    "        self.stdev = sigma\n",
    "        \n",
    "        return self.stdev\n",
    "    \n",
    "    def read_data_file(self, file_name , sample=True):\n",
    "        with open(file_name) as file:\n",
    "            data_list =[]\n",
    "            line= file.readline()\n",
    "            while line:\n",
    "                data_list.append(int(line))\n",
    "                line = file.readline()\n",
    "                \n",
    "        file.close()\n",
    "        \n",
    "        self.data= data_list\n",
    "        self.mean = self.calculate_mean()\n",
    "        self.stdev= self.calculate_stdev(sample)\n",
    "\n",
    "    def plot_histogram(self):\n",
    "        plt.hist(self.data)\n",
    "        plt.title('Histogram of Data')\n",
    "        plt.xlabel('data')\n",
    "        plt.ylabel('count')\n",
    "        \n",
    "    def pdf(self, x):\n",
    "        return(1.0/ (self.stdev*math.sqrt(2*math.pi)))* math.exp(-0.5*((x-self.mean)/ self.stdev**2)) \n",
    "    \n",
    "    def plot_histogram_pdf(self, n_spaces=50):\n",
    "        mu = self.mean\n",
    "        sigma = self.stdev\n",
    "        \n",
    "        min_range= min(self.data)\n",
    "        max_range = max(self.data)\n",
    "        \n",
    "        interval = 1.0 *(max_range - min_range)/ n_spaces\n",
    "        \n",
    "        x=[]\n",
    "        y=[]\n",
    "        \n",
    "        for i in range(n_spaces):\n",
    "            tmp = min_range + interval*i\n",
    "            x.append(tmp)\n",
    "            y.append(self.pdf(tmp))\n",
    "            \n",
    "        fig, axes = plt.subplots(2, sharex= True)\n",
    "        fig.subplots_adjust(hspace=.5)\n",
    "        axes[0].hist(self.data , density=True)\n",
    "        axes[0].set_title('Normed Histogram of Data')\n",
    "        axes[0].set_ylabel('Density')\n",
    "        \n",
    "        axes[1].plot(x,y)\n",
    "        axes[1].set_title('Normal Distribution for \\n Sample Mean and Sample Standard Deviation')\n",
    "        axes[1].set_ylabel('Density')\n",
    "        plt.show()\n",
    "        \n",
    "        return x,y\n",
    "    \n",
    "    def __add__(self, other):\n",
    "        result = Gaussian()\n",
    "        result.mean= self.mean + other.mean\n",
    "        result.stdev = math.sqrt(self.stdev **2 + other.stdev **2)\n",
    "        \n",
    "        return result\n",
    "    \n",
    "    def __repr__(self):\n",
    "        return \" mean {} , standard deviation{}\".format(self.mean , self.stdev)"
   ]
  },
  {
   "cell_type": "markdown",
   "metadata": {},
   "source": [
    "#    Inheriatnce of Class with it's Unit test"
   ]
  },
  {
   "cell_type": "code",
   "execution_count": 1,
   "metadata": {},
   "outputs": [],
   "source": [
    "class Clothing:\n",
    "\n",
    "    def __init__(self, color, size, style, price):\n",
    "        self.color = color\n",
    "        self.size = size\n",
    "        self.style = style\n",
    "        self.price = price\n",
    "        \n",
    "    def change_price(self, price):\n",
    "        self.price = price\n",
    "        \n",
    "    def calculate_discount(self, discount):\n",
    "        return self.price * (1 - discount)\n",
    "        \n",
    "class Shirt(Clothing):\n",
    "    \n",
    "    def __init__(self, color, size, style, price, long_or_short):\n",
    "        \n",
    "        Clothing.__init__(self, color, size, style, price)\n",
    "        self.long_or_short = long_or_short\n",
    "    \n",
    "    def double_price(self):\n",
    "        self.price = 2*self.price\n",
    "    \n",
    "class Pants(Clothing):\n",
    "\n",
    "    def __init__(self, color, size, style, price, waist):\n",
    "        \n",
    "        Clothing.__init__(self, color, size, style, price)\n",
    "        self.waist = waist\n",
    "        \n",
    "    def calculate_discount(self, discount):\n",
    "        return self.price * (1 - discount / 2)\n",
    "    \n",
    "class Blouse(Clothing):\n",
    "    def __init__(self, color, size, style, price, country_of_origin):\n",
    "        Clothing.__init__(self, color, size, style, price)\n",
    "        self.country_of_origin = country_of_origin\n",
    "        \n",
    "    def triple_price(self):\n",
    "        return( 3 * self.price)\n",
    "    \n",
    "    def calculate_shipping(self):\n",
    "        self.weight = weight\n",
    "        self.rate = rate\n",
    "        return (self.weight* self.rate)"
   ]
  },
  {
   "cell_type": "markdown",
   "metadata": {},
   "source": [
    "To apply unit test for the above class"
   ]
  },
  {
   "cell_type": "code",
   "execution_count": 2,
   "metadata": {},
   "outputs": [
    {
     "name": "stderr",
     "output_type": "stream",
     "text": [
      "E.\n",
      "======================================================================\n",
      "ERROR: test_calculateshipping (__main__.TestClothingClass)\n",
      "----------------------------------------------------------------------\n",
      "Traceback (most recent call last):\n",
      "  File \"<ipython-input-2-6c3d88dfa1ec>\", line 20, in test_calculateshipping\n",
      "    self.assertEqual(self.clothing.calculate_shipping(.5, 3), .5 * 3,\\\n",
      "AttributeError: 'Clothing' object has no attribute 'calculate_shipping'\n",
      "\n",
      "----------------------------------------------------------------------\n",
      "Ran 2 tests in 0.015s\n",
      "\n",
      "FAILED (errors=1)\n"
     ]
    },
    {
     "data": {
      "text/plain": [
       "<unittest.runner.TextTestResult run=2 errors=1 failures=0>"
      ]
     },
     "execution_count": 2,
     "metadata": {},
     "output_type": "execute_result"
    }
   ],
   "source": [
    "import unittest\n",
    "\n",
    "class TestClothingClass(unittest.TestCase):\n",
    "    def setUp(self):\n",
    "        self.clothing = Clothing('orange', 'M', 'stripes', 35)\n",
    "        self.blouse = Blouse('blue', 'M', 'luxury', 40, 'Brazil')\n",
    "        self.pants = Pants('black', 32, 'baggy', 60, 30)\n",
    "        \n",
    "    def test_initialization(self): \n",
    "        self.assertEqual(self.clothing.color, 'orange', 'color should be orange')\n",
    "        self.assertEqual(self.clothing.price, 35, 'incorrect price')\n",
    "        \n",
    "        self.assertEqual(self.blouse.color, 'blue', 'color should be blue')\n",
    "        self.assertEqual(self.blouse.size, 'M', 'incorrect size')\n",
    "        self.assertEqual(self.blouse.style, 'luxury', 'incorrect style')\n",
    "        self.assertEqual(self.blouse.price, 40, 'incorrect price')\n",
    "        self.assertEqual(self.blouse.country_of_origin, 'Brazil', 'incorrect country of origin')\n",
    "\n",
    "    def test_calculateshipping(self):\n",
    "        self.assertEqual(self.clothing.calculate_shipping(.5, 3), .5 * 3,\\\n",
    "         'Clothing shipping calculation not as expected') \n",
    "\n",
    "        self.assertEqual(self.blouse.calculate_shipping(.5, 3), .5 * 3,\\\n",
    "         'Clothing shipping calculation not as expected') \n",
    "    \n",
    "tests = TestClothingClass()\n",
    "\n",
    "tests_loaded = unittest.TestLoader().loadTestsFromModule(tests)\n",
    "\n",
    "unittest.TextTestRunner().run(tests_loaded)"
   ]
  },
  {
   "cell_type": "code",
   "execution_count": null,
   "metadata": {},
   "outputs": [],
   "source": []
  }
 ],
 "metadata": {
  "kernelspec": {
   "display_name": "Python 3",
   "language": "python",
   "name": "python3"
  },
  "language_info": {
   "codemirror_mode": {
    "name": "ipython",
    "version": 3
   },
   "file_extension": ".py",
   "mimetype": "text/x-python",
   "name": "python",
   "nbconvert_exporter": "python",
   "pygments_lexer": "ipython3",
   "version": "3.7.4"
  }
 },
 "nbformat": 4,
 "nbformat_minor": 4
}
