{
 "cells": [
  {
   "cell_type": "code",
   "execution_count": 1,
   "metadata": {},
   "outputs": [
    {
     "name": "stdout",
     "output_type": "stream",
     "text": [
      "['False', 'None', 'True', 'and', 'as', 'assert', 'async', 'await', 'break', 'class', 'continue', 'def', 'del', 'elif', 'else', 'except', 'finally', 'for', 'from', 'global', 'if', 'import', 'in', 'is', 'lambda', 'nonlocal', 'not', 'or', 'pass', 'raise', 'return', 'try', 'while', 'with', 'yield']\n",
      "/nTotal number of Keywords:  35\n"
     ]
    }
   ],
   "source": [
    "import keyword\n",
    "\n",
    "print(keyword.kwlist)\n",
    "\n",
    "print(\"/nTotal number of Keywords: \", len(keyword.kwlist))"
   ]
  },
  {
   "cell_type": "markdown",
   "metadata": {},
   "source": [
    "These are the builtin keywords in Python\n",
    "In python , keywords cannot be used as a variable name , or function name "
   ]
  },
  {
   "cell_type": "code",
   "execution_count": 2,
   "metadata": {},
   "outputs": [],
   "source": [
    "#Identfier is the name given to identify the desired object \n",
    "#Also special characters cannot be use as a identifier"
   ]
  },
  {
   "cell_type": "markdown",
   "metadata": {},
   "source": [
    "#Comments are the statement programmer put to make the code understandable or readable form \n",
    "#In order to write a single line comment we start it by putting a hash sign however to write a multiline commment we can use \"\"\"\n",
    "\"\"\" signs \n"
   ]
  },
  {
   "cell_type": "code",
   "execution_count": 7,
   "metadata": {},
   "outputs": [
    {
     "name": "stdout",
     "output_type": "stream",
     "text": [
      "0\n",
      "1\n",
      "2\n",
      "3\n",
      "4\n",
      "5\n",
      "6\n",
      "7\n",
      "8\n",
      "9\n"
     ]
    }
   ],
   "source": [
    "#Indentation is 4 spaces inside the function :\n",
    "for i in range(10):\n",
    "    print (i)"
   ]
  },
  {
   "cell_type": "code",
   "execution_count": 8,
   "metadata": {},
   "outputs": [],
   "source": [
    "#to write multiple statement in a single line we use ; "
   ]
  },
  {
   "cell_type": "code",
   "execution_count": 9,
   "metadata": {},
   "outputs": [
    {
     "name": "stdout",
     "output_type": "stream",
     "text": [
      "110\n"
     ]
    }
   ],
   "source": [
    "a= 10\n",
    "b= 20\n",
    "c= 80\n",
    "print(a+b+c)"
   ]
  },
  {
   "cell_type": "code",
   "execution_count": 10,
   "metadata": {},
   "outputs": [
    {
     "name": "stdout",
     "output_type": "stream",
     "text": [
      "100\n"
     ]
    }
   ],
   "source": [
    "a= 20 ; b= 10 ; c= 70 ; print(a+b+c)"
   ]
  },
  {
   "cell_type": "code",
   "execution_count": 11,
   "metadata": {},
   "outputs": [],
   "source": [
    "#Variable is a location in a memory use to store some data "
   ]
  },
  {
   "cell_type": "code",
   "execution_count": 13,
   "metadata": {},
   "outputs": [
    {
     "name": "stdout",
     "output_type": "stream",
     "text": [
      "140734671974752\n"
     ]
    }
   ],
   "source": [
    "x = 4\n",
    "print(id(x))   # x is stored at this location in the memory"
   ]
  },
  {
   "cell_type": "markdown",
   "metadata": {},
   "source": [
    "Data Type"
   ]
  },
  {
   "cell_type": "code",
   "execution_count": 15,
   "metadata": {},
   "outputs": [
    {
     "name": "stdout",
     "output_type": "stream",
     "text": [
      "8 is a type <class 'int'>\n"
     ]
    }
   ],
   "source": [
    "a = 8\n",
    "print(a, 'is a type', type(a))   #8 is integer"
   ]
  },
  {
   "cell_type": "code",
   "execution_count": 16,
   "metadata": {},
   "outputs": [
    {
     "name": "stdout",
     "output_type": "stream",
     "text": [
      "7.8 is a type <class 'float'>\n"
     ]
    }
   ],
   "source": [
    "b = 7.8\n",
    "print(b , 'is a type' , type(b))  #7.8 is float"
   ]
  },
  {
   "cell_type": "code",
   "execution_count": 17,
   "metadata": {},
   "outputs": [
    {
     "name": "stdout",
     "output_type": "stream",
     "text": [
      "(1+9j) is a type  <class 'complex'>\n"
     ]
    }
   ],
   "source": [
    "t = 1 +9j\n",
    "print(t , 'is a type ', type(t))"
   ]
  },
  {
   "cell_type": "code",
   "execution_count": 18,
   "metadata": {},
   "outputs": [
    {
     "name": "stdout",
     "output_type": "stream",
     "text": [
      "today is a good day  is a type <class 'str'>\n"
     ]
    }
   ],
   "source": [
    "c = 'today is a good day '\n",
    "print(c , 'is a type', type(c))"
   ]
  },
  {
   "cell_type": "markdown",
   "metadata": {},
   "source": [
    "List are mutable that is there value can be altered "
   ]
  },
  {
   "cell_type": "code",
   "execution_count": 19,
   "metadata": {},
   "outputs": [
    {
     "data": {
      "text/plain": [
       "['Power BI', 'Tableau', 'SQL', 1, 3.5]"
      ]
     },
     "execution_count": 19,
     "metadata": {},
     "output_type": "execute_result"
    }
   ],
   "source": [
    "a = ['Power BI' , 'Tableau' , 'SQL' , 1 , 3.5]\n",
    "a"
   ]
  },
  {
   "cell_type": "code",
   "execution_count": 20,
   "metadata": {},
   "outputs": [
    {
     "data": {
      "text/plain": [
       "'Power BI'"
      ]
     },
     "execution_count": 20,
     "metadata": {},
     "output_type": "execute_result"
    }
   ],
   "source": [
    "#list has index numbers that is every value has index and its index starts from 0 \n",
    "a[0]   #it will print that in a position 0 , PowerBI is placed"
   ]
  },
  {
   "cell_type": "code",
   "execution_count": 21,
   "metadata": {},
   "outputs": [
    {
     "data": {
      "text/plain": [
       "3.5"
      ]
     },
     "execution_count": 21,
     "metadata": {},
     "output_type": "execute_result"
    }
   ],
   "source": [
    "a[-1]   #-1 represents the last value of the list "
   ]
  },
  {
   "cell_type": "markdown",
   "metadata": {},
   "source": [
    "Tuple are immutable\n",
    "tuple is an orderd sequence of items same as list but they are immutable"
   ]
  },
  {
   "cell_type": "code",
   "execution_count": 25,
   "metadata": {},
   "outputs": [
    {
     "data": {
      "text/plain": [
       "('Power BI', 'Tableau', 'SQL', 1, 3.5)"
      ]
     },
     "execution_count": 25,
     "metadata": {},
     "output_type": "execute_result"
    }
   ],
   "source": [
    "a = ('Power BI' , 'Tableau' , 'SQL' , 1 , 3.5)\n",
    "a"
   ]
  },
  {
   "cell_type": "code",
   "execution_count": 26,
   "metadata": {},
   "outputs": [
    {
     "name": "stdout",
     "output_type": "stream",
     "text": [
      "Tableau\n"
     ]
    }
   ],
   "source": [
    "print(a[1])"
   ]
  },
  {
   "cell_type": "markdown",
   "metadata": {},
   "source": [
    "Set is an unordered collection of unique items "
   ]
  },
  {
   "cell_type": "code",
   "execution_count": 29,
   "metadata": {},
   "outputs": [
    {
     "name": "stdout",
     "output_type": "stream",
     "text": [
      "{'cloudy', 'rainy', 'suuny'}\n",
      "<class 'set'>\n"
     ]
    }
   ],
   "source": [
    "a = {'rainy' , 'cloudy' , 'suuny'}\n",
    "print(a)\n",
    "print(type(a))"
   ]
  },
  {
   "cell_type": "code",
   "execution_count": 31,
   "metadata": {},
   "outputs": [
    {
     "data": {
      "text/plain": [
       "{1, 3, 78, 80}"
      ]
     },
     "execution_count": 31,
     "metadata": {},
     "output_type": "execute_result"
    }
   ],
   "source": [
    "#we can perform set operations like Union , INtersection \n",
    "#Since set have only unique values so \n",
    "a = {1 , 1, 3 , 78 , 80 , 80 , 3}\n",
    "a"
   ]
  },
  {
   "cell_type": "code",
   "execution_count": 32,
   "metadata": {},
   "outputs": [],
   "source": [
    "#we cannot pick particular element in set because it is unordered"
   ]
  },
  {
   "cell_type": "markdown",
   "metadata": {},
   "source": [
    "Dictionary is an unordered collection of key value pair "
   ]
  },
  {
   "cell_type": "code",
   "execution_count": 34,
   "metadata": {},
   "outputs": [
    {
     "name": "stdout",
     "output_type": "stream",
     "text": [
      "Alfredo\n"
     ]
    }
   ],
   "source": [
    "d = {'a':'Alfredo' , 'b':'Burger' , 'z':'Zinger'}\n",
    "print(d['a'])   #we pass key to print value "
   ]
  },
  {
   "cell_type": "code",
   "execution_count": 45,
   "metadata": {},
   "outputs": [
    {
     "name": "stdout",
     "output_type": "stream",
     "text": [
      "Congratulations! Amna , reference to your id  006 You have been selected as aData Analyst in our company \n"
     ]
    }
   ],
   "source": [
    "user = 'Amna'\n",
    "role = 'Data Analyst'\n",
    "id_ = '006'\n",
    "\n",
    "print('Congratulations!' , str(user) ,', reference to your id ', str(id_) +' You have been selected as a'+ str(role) + ' in our company ')"
   ]
  },
  {
   "cell_type": "markdown",
   "metadata": {},
   "source": [
    "Output formatting"
   ]
  },
  {
   "cell_type": "code",
   "execution_count": 47,
   "metadata": {},
   "outputs": [
    {
     "name": "stdout",
     "output_type": "stream",
     "text": [
      "the value of a is 10 and the value of b is 20 while the value of c is 30 \n"
     ]
    }
   ],
   "source": [
    "a= 10 ; b= 20 ; c = 30\n",
    "print('the value of a is {} and the value of b is {} while the value of c is {} '.format(a,b, c))"
   ]
  },
  {
   "cell_type": "code",
   "execution_count": 48,
   "metadata": {},
   "outputs": [
    {
     "name": "stdout",
     "output_type": "stream",
     "text": [
      "the value of a is 30 , the value of b is 10 and the value of c is 20\n"
     ]
    }
   ],
   "source": [
    "print('the value of a is {2} , the value of b is {0} and the value of c is {1}'.format(a,b,c))"
   ]
  },
  {
   "cell_type": "code",
   "execution_count": 52,
   "metadata": {},
   "outputs": [
    {
     "name": "stdout",
     "output_type": "stream",
     "text": [
      "Hello Amna , GoodMorning\n"
     ]
    }
   ],
   "source": [
    "greeting = 'Good Morning'\n",
    "name = 'Amna'\n",
    "print(\"Hello {name} , {greeting}\".format(name='Amna' , greeting='GoodMorning'))"
   ]
  },
  {
   "cell_type": "code",
   "execution_count": 53,
   "metadata": {},
   "outputs": [
    {
     "name": "stdout",
     "output_type": "stream",
     "text": [
      "Enter your age4\n",
      "Finally you are 4\n"
     ]
    }
   ],
   "source": [
    "#to take input from the user\n",
    "Age = input('Enter your age')\n",
    "print (\"Finally you are\" , Age)"
   ]
  },
  {
   "cell_type": "code",
   "execution_count": 60,
   "metadata": {},
   "outputs": [
    {
     "name": "stdout",
     "output_type": "stream",
     "text": [
      "Enter your age78\n",
      "Finally you are 78\n",
      "Sorry for Inconvience\n"
     ]
    }
   ],
   "source": [
    "Age = input('Enter your age')\n",
    "print (\"Finally you are\" , Age) \n",
    "if Age == 18:\n",
    "    print('Finally Legal')\n",
    "elif Age == 16:\n",
    "    print('too young')\n",
    "else:\n",
    "    print('Sorry for Inconvience')"
   ]
  },
  {
   "cell_type": "markdown",
   "metadata": {},
   "source": [
    "# Operators"
   ]
  },
  {
   "cell_type": "markdown",
   "metadata": {},
   "source": [
    "operators are special symbols that carry out arithematic or logical computation . \n",
    "The value that operator operates is called as operand \n",
    "\n",
    "Following are the types of operators\n",
    "1. Aritematic operators\n",
    "2. Comaprison (Relational) operators\n",
    "3. Logical (Boolean) operators\n",
    "4. Bitwise operators\n",
    "5. Assignment operators\n",
    "6. Special Operators"
   ]
  },
  {
   "cell_type": "code",
   "execution_count": 61,
   "metadata": {},
   "outputs": [
    {
     "name": "stdout",
     "output_type": "stream",
     "text": [
      "55\n",
      "45\n",
      "10.0\n",
      "10\n",
      "0\n",
      "312500000\n"
     ]
    }
   ],
   "source": [
    "#Arithematic Operations \n",
    "\n",
    "s = 50; t= 5\n",
    "#Addition\n",
    "print(s+t)\n",
    "\n",
    "#Subtraction\n",
    "print(s-t)\n",
    "\n",
    "#Division\n",
    "print(s/t)\n",
    "\n",
    "#Floor division\n",
    "print(s//t)\n",
    "\n",
    "#Modulo division\n",
    "print(s%t)\n",
    "\n",
    "#Exponent\n",
    "print(s**t)"
   ]
  },
  {
   "cell_type": "code",
   "execution_count": 62,
   "metadata": {},
   "outputs": [],
   "source": [
    "#Comparision operaators are used to compare two variables and return answer in True or False according to the condition"
   ]
  },
  {
   "cell_type": "code",
   "execution_count": 63,
   "metadata": {},
   "outputs": [
    {
     "name": "stdout",
     "output_type": "stream",
     "text": [
      "False\n",
      "False\n",
      "True\n",
      "True\n",
      "True\n",
      "False\n"
     ]
    }
   ],
   "source": [
    "a = 10 ; b= 30\n",
    "# a is equal to b \n",
    "print(a==b)\n",
    "\n",
    "#a is greater than b \n",
    "print(a>b)\n",
    "\n",
    "#a is less than b\n",
    "print(a<b)\n",
    "\n",
    "#a is not equal to b\n",
    "print(a!=b)\n",
    "\n",
    "# a is less than or equal to b\n",
    "print(a <= b)\n",
    "\n",
    "# a is greater than or equal to b\n",
    "print(a >=b )"
   ]
  },
  {
   "cell_type": "markdown",
   "metadata": {},
   "source": [
    "#Logical Operators \n",
    "1. and \n",
    "2. or\n",
    "3. not"
   ]
  },
  {
   "cell_type": "code",
   "execution_count": 66,
   "metadata": {},
   "outputs": [
    {
     "name": "stdout",
     "output_type": "stream",
     "text": [
      "False\n",
      "True\n",
      "False\n"
     ]
    }
   ],
   "source": [
    "x = True\n",
    "y = False\n",
    "\n",
    "print(x and y)\n",
    "print(x or y)\n",
    "print(not x  )"
   ]
  },
  {
   "cell_type": "markdown",
   "metadata": {},
   "source": [
    "#BITWISE operators act on operand as if they were string of binary digits\n",
    "#it operates bit by bit\n",
    "# & , | , ~ , >> , <<\n"
   ]
  },
  {
   "cell_type": "code",
   "execution_count": 68,
   "metadata": {},
   "outputs": [
    {
     "name": "stdout",
     "output_type": "stream",
     "text": [
      "0\n",
      "30\n",
      "-21\n",
      "0\n",
      "10485760\n"
     ]
    }
   ],
   "source": [
    "a , b = 10 , 20 \n",
    "#bitwise and\n",
    "print (a & b)\n",
    "\n",
    "#bitwise or\n",
    "print(a | b)\n",
    "\n",
    "#bitwise not \n",
    "print(~b)\n",
    "\n",
    "#bitwise right shift \n",
    "print(a >> b)\n",
    "\n",
    "#bitwise leftshift\n",
    "print(a<<b)"
   ]
  },
  {
   "cell_type": "code",
   "execution_count": 72,
   "metadata": {},
   "outputs": [
    {
     "name": "stdout",
     "output_type": "stream",
     "text": [
      "20\n",
      "10\n",
      "100\n",
      "10.0\n",
      "0.0\n",
      "0.0\n",
      "0.0\n"
     ]
    }
   ],
   "source": [
    "#Assignment operators are used to assign values to variable\n",
    "a = 10 \n",
    "a+= 10\n",
    "print(a)\n",
    "\n",
    "#subtract and (-=)\n",
    "a-=10\n",
    "print(a)\n",
    "\n",
    "#multiply and(*=)\n",
    "a*=10\n",
    "print(a)\n",
    "\n",
    "#divide and(/=)\n",
    "a/=10\n",
    "print(a)\n",
    "\n",
    "#Modulus and(%=)\n",
    "a%=2\n",
    "print(a)\n",
    "\n",
    "#Floor Division(//=)\n",
    "a//=5\n",
    "print(a)\n",
    "\n",
    "#Exponent and(**=)\n",
    "a**=4\n",
    "print(a)"
   ]
  },
  {
   "cell_type": "markdown",
   "metadata": {},
   "source": [
    "#Special Operators \n",
    "is and isnot are identity operators use to see if both the variables are lcoated at the same point\n"
   ]
  },
  {
   "cell_type": "code",
   "execution_count": 74,
   "metadata": {},
   "outputs": [
    {
     "name": "stdout",
     "output_type": "stream",
     "text": [
      "True\n",
      "False\n"
     ]
    }
   ],
   "source": [
    "a, b = 10 , 10\n",
    "print (a is b)\n",
    "print( a is not b)"
   ]
  },
  {
   "cell_type": "markdown",
   "metadata": {},
   "source": [
    "#membership operator \n",
    "in and not in"
   ]
  },
  {
   "cell_type": "code",
   "execution_count": 76,
   "metadata": {},
   "outputs": [
    {
     "name": "stdout",
     "output_type": "stream",
     "text": [
      "False\n",
      "True\n"
     ]
    }
   ],
   "source": [
    "lst = [1,2,3,4]\n",
    "print(5 in lst)\n",
    "print(2 in lst)"
   ]
  },
  {
   "cell_type": "code",
   "execution_count": 77,
   "metadata": {},
   "outputs": [
    {
     "name": "stdout",
     "output_type": "stream",
     "text": [
      "True\n"
     ]
    }
   ],
   "source": [
    "d= {1:'a' , 2:'b'}\n",
    "print(1 in d)"
   ]
  },
  {
   "cell_type": "code",
   "execution_count": null,
   "metadata": {},
   "outputs": [],
   "source": []
  }
 ],
 "metadata": {
  "kernelspec": {
   "display_name": "Python 3",
   "language": "python",
   "name": "python3"
  },
  "language_info": {
   "codemirror_mode": {
    "name": "ipython",
    "version": 3
   },
   "file_extension": ".py",
   "mimetype": "text/x-python",
   "name": "python",
   "nbconvert_exporter": "python",
   "pygments_lexer": "ipython3",
   "version": "3.7.4"
  }
 },
 "nbformat": 4,
 "nbformat_minor": 4
}
