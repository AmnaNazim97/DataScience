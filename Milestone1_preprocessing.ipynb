{
  "nbformat": 4,
  "nbformat_minor": 0,
  "metadata": {
    "kernelspec": {
      "display_name": "Python 3",
      "language": "python",
      "name": "python3"
    },
    "language_info": {
      "codemirror_mode": {
        "name": "ipython",
        "version": 3
      },
      "file_extension": ".py",
      "mimetype": "text/x-python",
      "name": "python",
      "nbconvert_exporter": "python",
      "pygments_lexer": "ipython3",
      "version": "3.7.8"
    },
    "colab": {
      "name": "Milestone1_preprocessing.ipynb",
      "provenance": [],
      "collapsed_sections": [],
      "toc_visible": true,
      "include_colab_link": true
    }
  },
  "cells": [
    {
      "cell_type": "markdown",
      "metadata": {
        "id": "view-in-github",
        "colab_type": "text"
      },
      "source": [
        "<a href=\"https://colab.research.google.com/github/AmnaNazim97/DataScience/blob/master/Milestone1_preprocessing.ipynb\" target=\"_parent\"><img src=\"https://colab.research.google.com/assets/colab-badge.svg\" alt=\"Open In Colab\"/></a>"
      ]
    },
    {
      "cell_type": "markdown",
      "metadata": {
        "id": "0FrEIPoAezbU"
      },
      "source": [
        "The input parameter for student to predict gpa for 7th and 8th semester could are below\n",
        "for 7th semester:\n",
        "- inter grades (optional)\n",
        "- gpa first semester\n",
        "- gpa second semester\n",
        "- gpa third semester\n",
        "- gpa fourth semester\n",
        "- gpa fifth semester\n",
        "- gpa sixth semester\n",
        "\n",
        "for 8th semester:\n",
        "- inter grades (optional)\n",
        "- gpa first semester\n",
        "- gpa second semester\n",
        "- gpa third semester\n",
        "- gpa fourth semester\n",
        "- gpa fifth semester\n",
        "- gpa sixth semester\n",
        "- gpa seventh semester\n"
      ]
    },
    {
      "cell_type": "markdown",
      "metadata": {
        "id": "KQiYSuw8ezbZ"
      },
      "source": [
        "# creating dataset for next semester grades prediction"
      ]
    },
    {
      "cell_type": "code",
      "metadata": {
        "id": "dRIA5DM8ezbZ"
      },
      "source": [
        "import pandas as pd \n",
        "import numpy as np\n",
        "from sklearn.preprocessing import StandardScaler"
      ],
      "execution_count": null,
      "outputs": []
    },
    {
      "cell_type": "code",
      "metadata": {
        "id": "es4aGvvYezba"
      },
      "source": [
        "df = pd.read_excel(\"Student_semester_wise_GPA (1).xlsx\")"
      ],
      "execution_count": null,
      "outputs": []
    },
    {
      "cell_type": "code",
      "metadata": {
        "colab": {
          "base_uri": "https://localhost:8080/",
          "height": 406
        },
        "id": "5cyijjEvezba",
        "outputId": "c26dd895-a936-47ca-b5c1-63aab6696cb8"
      },
      "source": [
        "df"
      ],
      "execution_count": null,
      "outputs": [
        {
          "output_type": "execute_result",
          "data": {
            "text/html": [
              "<div>\n",
              "<style scoped>\n",
              "    .dataframe tbody tr th:only-of-type {\n",
              "        vertical-align: middle;\n",
              "    }\n",
              "\n",
              "    .dataframe tbody tr th {\n",
              "        vertical-align: top;\n",
              "    }\n",
              "\n",
              "    .dataframe thead th {\n",
              "        text-align: right;\n",
              "    }\n",
              "</style>\n",
              "<table border=\"1\" class=\"dataframe\">\n",
              "  <thead>\n",
              "    <tr style=\"text-align: right;\">\n",
              "      <th></th>\n",
              "      <th>RN</th>\n",
              "      <th>I_MARKS</th>\n",
              "      <th>T_NO</th>\n",
              "      <th>Grade of all semesters</th>\n",
              "      <th>sgpa</th>\n",
              "    </tr>\n",
              "  </thead>\n",
              "  <tbody>\n",
              "    <tr>\n",
              "      <th>0</th>\n",
              "      <td>1</td>\n",
              "      <td>906</td>\n",
              "      <td>1</td>\n",
              "      <td>A</td>\n",
              "      <td>3.59</td>\n",
              "    </tr>\n",
              "    <tr>\n",
              "      <th>1</th>\n",
              "      <td>1</td>\n",
              "      <td>0</td>\n",
              "      <td>2</td>\n",
              "      <td>A</td>\n",
              "      <td>3.68</td>\n",
              "    </tr>\n",
              "    <tr>\n",
              "      <th>2</th>\n",
              "      <td>1</td>\n",
              "      <td>0</td>\n",
              "      <td>3</td>\n",
              "      <td>A</td>\n",
              "      <td>3.87</td>\n",
              "    </tr>\n",
              "    <tr>\n",
              "      <th>3</th>\n",
              "      <td>1</td>\n",
              "      <td>0</td>\n",
              "      <td>4</td>\n",
              "      <td>A</td>\n",
              "      <td>3.57</td>\n",
              "    </tr>\n",
              "    <tr>\n",
              "      <th>4</th>\n",
              "      <td>1</td>\n",
              "      <td>0</td>\n",
              "      <td>5</td>\n",
              "      <td>B+</td>\n",
              "      <td>3.58</td>\n",
              "    </tr>\n",
              "    <tr>\n",
              "      <th>...</th>\n",
              "      <td>...</td>\n",
              "      <td>...</td>\n",
              "      <td>...</td>\n",
              "      <td>...</td>\n",
              "      <td>...</td>\n",
              "    </tr>\n",
              "    <tr>\n",
              "      <th>1540</th>\n",
              "      <td>289</td>\n",
              "      <td>0</td>\n",
              "      <td>4</td>\n",
              "      <td>C+</td>\n",
              "      <td>2.74</td>\n",
              "    </tr>\n",
              "    <tr>\n",
              "      <th>1541</th>\n",
              "      <td>289</td>\n",
              "      <td>0</td>\n",
              "      <td>5</td>\n",
              "      <td>C+</td>\n",
              "      <td>2.75</td>\n",
              "    </tr>\n",
              "    <tr>\n",
              "      <th>1542</th>\n",
              "      <td>289</td>\n",
              "      <td>0</td>\n",
              "      <td>6</td>\n",
              "      <td>C+</td>\n",
              "      <td>2.87</td>\n",
              "    </tr>\n",
              "    <tr>\n",
              "      <th>1543</th>\n",
              "      <td>289</td>\n",
              "      <td>0</td>\n",
              "      <td>7</td>\n",
              "      <td>B+</td>\n",
              "      <td>3.32</td>\n",
              "    </tr>\n",
              "    <tr>\n",
              "      <th>1544</th>\n",
              "      <td>289</td>\n",
              "      <td>0</td>\n",
              "      <td>8</td>\n",
              "      <td>C+</td>\n",
              "      <td>2.86</td>\n",
              "    </tr>\n",
              "  </tbody>\n",
              "</table>\n",
              "<p>1545 rows × 5 columns</p>\n",
              "</div>"
            ],
            "text/plain": [
              "       RN  I_MARKS  T_NO Grade of all semesters  sgpa\n",
              "0       1      906     1                      A  3.59\n",
              "1       1        0     2                      A  3.68\n",
              "2       1        0     3                      A  3.87\n",
              "3       1        0     4                      A  3.57\n",
              "4       1        0     5                     B+  3.58\n",
              "...   ...      ...   ...                    ...   ...\n",
              "1540  289        0     4                     C+  2.74\n",
              "1541  289        0     5                     C+  2.75\n",
              "1542  289        0     6                     C+  2.87\n",
              "1543  289        0     7                     B+  3.32\n",
              "1544  289        0     8                     C+  2.86\n",
              "\n",
              "[1545 rows x 5 columns]"
            ]
          },
          "metadata": {
            "tags": []
          },
          "execution_count": 19
        }
      ]
    },
    {
      "cell_type": "code",
      "metadata": {
        "scrolled": true,
        "colab": {
          "base_uri": "https://localhost:8080/",
          "height": 227
        },
        "id": "DYuIjwiSezbc",
        "outputId": "2336c59d-bb0a-42bc-e47e-ceca8ccda7e6"
      },
      "source": [
        "ls  = []\n",
        "df[df['RN'] == 1][:6]"
      ],
      "execution_count": null,
      "outputs": [
        {
          "output_type": "execute_result",
          "data": {
            "text/html": [
              "<div>\n",
              "<style scoped>\n",
              "    .dataframe tbody tr th:only-of-type {\n",
              "        vertical-align: middle;\n",
              "    }\n",
              "\n",
              "    .dataframe tbody tr th {\n",
              "        vertical-align: top;\n",
              "    }\n",
              "\n",
              "    .dataframe thead th {\n",
              "        text-align: right;\n",
              "    }\n",
              "</style>\n",
              "<table border=\"1\" class=\"dataframe\">\n",
              "  <thead>\n",
              "    <tr style=\"text-align: right;\">\n",
              "      <th></th>\n",
              "      <th>RN</th>\n",
              "      <th>I_MARKS</th>\n",
              "      <th>T_NO</th>\n",
              "      <th>Grade of all semesters</th>\n",
              "      <th>sgpa</th>\n",
              "    </tr>\n",
              "  </thead>\n",
              "  <tbody>\n",
              "    <tr>\n",
              "      <th>0</th>\n",
              "      <td>1</td>\n",
              "      <td>906</td>\n",
              "      <td>1</td>\n",
              "      <td>A</td>\n",
              "      <td>3.59</td>\n",
              "    </tr>\n",
              "    <tr>\n",
              "      <th>1</th>\n",
              "      <td>1</td>\n",
              "      <td>0</td>\n",
              "      <td>2</td>\n",
              "      <td>A</td>\n",
              "      <td>3.68</td>\n",
              "    </tr>\n",
              "    <tr>\n",
              "      <th>2</th>\n",
              "      <td>1</td>\n",
              "      <td>0</td>\n",
              "      <td>3</td>\n",
              "      <td>A</td>\n",
              "      <td>3.87</td>\n",
              "    </tr>\n",
              "    <tr>\n",
              "      <th>3</th>\n",
              "      <td>1</td>\n",
              "      <td>0</td>\n",
              "      <td>4</td>\n",
              "      <td>A</td>\n",
              "      <td>3.57</td>\n",
              "    </tr>\n",
              "    <tr>\n",
              "      <th>4</th>\n",
              "      <td>1</td>\n",
              "      <td>0</td>\n",
              "      <td>5</td>\n",
              "      <td>B+</td>\n",
              "      <td>3.58</td>\n",
              "    </tr>\n",
              "    <tr>\n",
              "      <th>5</th>\n",
              "      <td>1</td>\n",
              "      <td>0</td>\n",
              "      <td>6</td>\n",
              "      <td>B+</td>\n",
              "      <td>3.64</td>\n",
              "    </tr>\n",
              "  </tbody>\n",
              "</table>\n",
              "</div>"
            ],
            "text/plain": [
              "   RN  I_MARKS  T_NO Grade of all semesters  sgpa\n",
              "0   1      906     1                      A  3.59\n",
              "1   1        0     2                      A  3.68\n",
              "2   1        0     3                      A  3.87\n",
              "3   1        0     4                      A  3.57\n",
              "4   1        0     5                     B+  3.58\n",
              "5   1        0     6                     B+  3.64"
            ]
          },
          "metadata": {
            "tags": []
          },
          "execution_count": 20
        }
      ]
    },
    {
      "cell_type": "code",
      "metadata": {
        "scrolled": true,
        "colab": {
          "base_uri": "https://localhost:8080/"
        },
        "id": "A06ulhaBezbc",
        "outputId": "fe75b765-f91c-49c2-c909-c8bcaa406076"
      },
      "source": [
        "df['RN'].unique()"
      ],
      "execution_count": null,
      "outputs": [
        {
          "output_type": "execute_result",
          "data": {
            "text/plain": [
              "array([  1,   2,   3,   4,   5,   6,   7,   9,  10,  11,  12,  13,  14,\n",
              "        15,  16,  17,  18,  19,  20,  21,  22,  23,  24,  25,  26,  27,\n",
              "        28,  29,  30,  31,  32,  33,  34,  35,  36,  37,  38,  39,  40,\n",
              "        41,  42,  43,  44,  45,  46,  47,  48,  49,  50,  51,  53,  54,\n",
              "        55,  56,  57,  58,  59,  60,  61,  62,  63,  64,  65,  66,  67,\n",
              "        68,  69,  70,  71,  73,  74,  75,  76,  77,  78,  79,  80,  81,\n",
              "        82,  83,  84,  85,  86,  87,  88,  89,  90,  91,  92,  93,  94,\n",
              "        95,  96,  97,  98,  99, 100, 101, 102, 103, 104, 105, 106, 107,\n",
              "       108, 109, 110, 111, 112, 113, 114, 115, 116, 117, 118, 119, 120,\n",
              "       121, 123, 124, 125, 126, 127, 201, 202, 203, 204, 206, 207, 208,\n",
              "       209, 210, 211, 212, 213, 214, 215, 216, 217, 218, 219, 220, 221,\n",
              "       222, 223, 224, 225, 226, 227, 228, 229, 230, 231, 232, 233, 235,\n",
              "       236, 237, 238, 239, 240, 241, 244, 245, 246, 247, 248, 249, 250,\n",
              "       251, 252, 253, 254, 255, 256, 257, 258, 259, 260, 261, 262, 263,\n",
              "       264, 265, 266, 267, 268, 269, 270, 271, 272, 273, 274, 275, 276,\n",
              "       277, 278, 279, 280, 281, 282, 283, 284, 285, 286, 287, 288, 289])"
            ]
          },
          "metadata": {
            "tags": []
          },
          "execution_count": 21
        }
      ]
    },
    {
      "cell_type": "code",
      "metadata": {
        "colab": {
          "base_uri": "https://localhost:8080/"
        },
        "id": "r8njh2utezbc",
        "outputId": "b46fdc2c-2082-4787-e4ae-c02dee8bc639"
      },
      "source": [
        "df[df['RN'] == 1].iloc[6]['sgpa']"
      ],
      "execution_count": null,
      "outputs": [
        {
          "output_type": "execute_result",
          "data": {
            "text/plain": [
              "3.26"
            ]
          },
          "metadata": {
            "tags": []
          },
          "execution_count": 22
        }
      ]
    },
    {
      "cell_type": "code",
      "metadata": {
        "scrolled": true,
        "id": "OcHWt11Iezbc"
      },
      "source": [
        "X7 = {'I_no':[],'S1':[],'S2':[],'S3':[],'S4':[],'S5':[],'S6':[]}\n",
        "Y7 = {\"target\":[]}\n",
        "for i in df['RN'].unique():\n",
        "    \n",
        "    if len(df[df['RN'] == i]['sgpa']) == 8:\n",
        "        X7['I_no'].append(df[df['RN']==i]['I_MARKS'].iloc[0])\n",
        "        for index,value in enumerate(df[df['RN'] == i][:6]['sgpa']):\n",
        "            X7['S{}'.format(index+1)].append(value)\n",
        "for i in df['RN'].unique():\n",
        "    if len(df[df['RN'] == i]['sgpa']) == 8:\n",
        "        Y7['target'].append(df[df['RN'] == i].iloc[6]['sgpa'])\n",
        "            \n"
      ],
      "execution_count": null,
      "outputs": []
    },
    {
      "cell_type": "code",
      "metadata": {
        "colab": {
          "base_uri": "https://localhost:8080/"
        },
        "id": "StG0Fz2yezbc",
        "outputId": "5bfce888-5f31-4e65-96b6-c2ec2a073e66"
      },
      "source": [
        "X7['I_no']"
      ],
      "execution_count": null,
      "outputs": [
        {
          "output_type": "execute_result",
          "data": {
            "text/plain": [
              "[906,\n",
              " 905,\n",
              " 863,\n",
              " 882,\n",
              " 904,\n",
              " 885,\n",
              " 430,\n",
              " 447,\n",
              " 901,\n",
              " 0,\n",
              " 871,\n",
              " 853,\n",
              " 880,\n",
              " 841,\n",
              " 451,\n",
              " 453,\n",
              " 843,\n",
              " 438,\n",
              " 855,\n",
              " 895,\n",
              " 420,\n",
              " 442,\n",
              " 849,\n",
              " 848,\n",
              " 892,\n",
              " 846,\n",
              " 887,\n",
              " 840,\n",
              " 0,\n",
              " 881,\n",
              " 909,\n",
              " 893,\n",
              " 0,\n",
              " 905,\n",
              " 844,\n",
              " 856,\n",
              " 885,\n",
              " 914,\n",
              " 855,\n",
              " 899,\n",
              " 839,\n",
              " 881,\n",
              " 895,\n",
              " 754,\n",
              " 836,\n",
              " 880,\n",
              " 819,\n",
              " 831,\n",
              " 904,\n",
              " 889,\n",
              " 858,\n",
              " 814,\n",
              " 885,\n",
              " 840,\n",
              " 825,\n",
              " 883,\n",
              " 838,\n",
              " 911,\n",
              " 806,\n",
              " 850,\n",
              " 832,\n",
              " 860,\n",
              " 757,\n",
              " 918,\n",
              " 844,\n",
              " 844,\n",
              " 828,\n",
              " 857,\n",
              " 797,\n",
              " 825,\n",
              " 879,\n",
              " 820,\n",
              " 921,\n",
              " 877,\n",
              " 847,\n",
              " 773,\n",
              " 815,\n",
              " 857,\n",
              " 841,\n",
              " 899,\n",
              " 825,\n",
              " 839,\n",
              " 780,\n",
              " 853,\n",
              " 897,\n",
              " 838,\n",
              " 896,\n",
              " 850,\n",
              " 820,\n",
              " 864,\n",
              " 776,\n",
              " 863,\n",
              " 760,\n",
              " 877,\n",
              " 846,\n",
              " 758,\n",
              " 816,\n",
              " 859,\n",
              " 844,\n",
              " 844,\n",
              " 844,\n",
              " 873,\n",
              " 661,\n",
              " 195,\n",
              " 636,\n",
              " 786,\n",
              " 873,\n",
              " 921,\n",
              " 830,\n",
              " 702,\n",
              " 829,\n",
              " 463,\n",
              " 936,\n",
              " 887,\n",
              " 857,\n",
              " 857,\n",
              " 842,\n",
              " 900,\n",
              " 826,\n",
              " 899,\n",
              " 825,\n",
              " 0,\n",
              " 854,\n",
              " 839,\n",
              " 839,\n",
              " 839,\n",
              " 823,\n",
              " 880,\n",
              " 865,\n",
              " 850,\n",
              " 835,\n",
              " 862,\n",
              " 818,\n",
              " 862,\n",
              " 832,\n",
              " 817,\n",
              " 816,\n",
              " 857,\n",
              " 768,\n",
              " 782,\n",
              " 855,\n",
              " 840,\n",
              " 882,\n",
              " 911,\n",
              " 852,\n",
              " 822,\n",
              " 910,\n",
              " 865,\n",
              " 849,\n",
              " 906,\n",
              " 876,\n",
              " 846,\n",
              " 802,\n",
              " 859,\n",
              " 845,\n",
              " 868,\n",
              " 901,\n",
              " 738,\n",
              " 826,\n",
              " 811,\n",
              " 811,\n",
              " 778,\n",
              " 824,\n",
              " 824,\n",
              " 808,\n",
              " 793,\n",
              " 821,\n",
              " 821,\n",
              " 775,\n",
              " 777,\n",
              " 741,\n",
              " 900,\n",
              " 864,\n",
              " 846,\n",
              " 844,\n",
              " 783,\n",
              " 855,\n",
              " 854,\n",
              " 858,\n",
              " 835,\n",
              " 725,\n",
              " 849,\n",
              " 805]"
            ]
          },
          "metadata": {
            "tags": []
          },
          "execution_count": 24
        }
      ]
    },
    {
      "cell_type": "code",
      "metadata": {
        "scrolled": false,
        "colab": {
          "base_uri": "https://localhost:8080/",
          "height": 424
        },
        "id": "er84wAxPezbc",
        "outputId": "9c2c6701-2c03-4c22-9f72-bb1ba0211571"
      },
      "source": [
        "df_7th = pd.concat([pd.DataFrame(X7),pd.DataFrame(Y7)],axis = 1)\n",
        "print(\"Train and target variables for 7th semester\")\n",
        "df_7th"
      ],
      "execution_count": null,
      "outputs": [
        {
          "output_type": "stream",
          "text": [
            "Train and target variables for 7th semester\n"
          ],
          "name": "stdout"
        },
        {
          "output_type": "execute_result",
          "data": {
            "text/html": [
              "<div>\n",
              "<style scoped>\n",
              "    .dataframe tbody tr th:only-of-type {\n",
              "        vertical-align: middle;\n",
              "    }\n",
              "\n",
              "    .dataframe tbody tr th {\n",
              "        vertical-align: top;\n",
              "    }\n",
              "\n",
              "    .dataframe thead th {\n",
              "        text-align: right;\n",
              "    }\n",
              "</style>\n",
              "<table border=\"1\" class=\"dataframe\">\n",
              "  <thead>\n",
              "    <tr style=\"text-align: right;\">\n",
              "      <th></th>\n",
              "      <th>I_no</th>\n",
              "      <th>S1</th>\n",
              "      <th>S2</th>\n",
              "      <th>S3</th>\n",
              "      <th>S4</th>\n",
              "      <th>S5</th>\n",
              "      <th>S6</th>\n",
              "      <th>target</th>\n",
              "    </tr>\n",
              "  </thead>\n",
              "  <tbody>\n",
              "    <tr>\n",
              "      <th>0</th>\n",
              "      <td>906</td>\n",
              "      <td>3.59</td>\n",
              "      <td>3.68</td>\n",
              "      <td>3.87</td>\n",
              "      <td>3.57</td>\n",
              "      <td>3.58</td>\n",
              "      <td>3.64</td>\n",
              "      <td>3.26</td>\n",
              "    </tr>\n",
              "    <tr>\n",
              "      <th>1</th>\n",
              "      <td>905</td>\n",
              "      <td>2.92</td>\n",
              "      <td>2.87</td>\n",
              "      <td>3.09</td>\n",
              "      <td>2.86</td>\n",
              "      <td>2.72</td>\n",
              "      <td>3.17</td>\n",
              "      <td>2.92</td>\n",
              "    </tr>\n",
              "    <tr>\n",
              "      <th>2</th>\n",
              "      <td>863</td>\n",
              "      <td>3.09</td>\n",
              "      <td>3.23</td>\n",
              "      <td>3.02</td>\n",
              "      <td>3.21</td>\n",
              "      <td>3.09</td>\n",
              "      <td>2.96</td>\n",
              "      <td>2.88</td>\n",
              "    </tr>\n",
              "    <tr>\n",
              "      <th>3</th>\n",
              "      <td>882</td>\n",
              "      <td>2.62</td>\n",
              "      <td>3.09</td>\n",
              "      <td>3.00</td>\n",
              "      <td>2.68</td>\n",
              "      <td>2.65</td>\n",
              "      <td>3.13</td>\n",
              "      <td>3.00</td>\n",
              "    </tr>\n",
              "    <tr>\n",
              "      <th>4</th>\n",
              "      <td>904</td>\n",
              "      <td>3.29</td>\n",
              "      <td>3.06</td>\n",
              "      <td>3.19</td>\n",
              "      <td>3.15</td>\n",
              "      <td>3.32</td>\n",
              "      <td>3.30</td>\n",
              "      <td>3.34</td>\n",
              "    </tr>\n",
              "    <tr>\n",
              "      <th>...</th>\n",
              "      <td>...</td>\n",
              "      <td>...</td>\n",
              "      <td>...</td>\n",
              "      <td>...</td>\n",
              "      <td>...</td>\n",
              "      <td>...</td>\n",
              "      <td>...</td>\n",
              "      <td>...</td>\n",
              "    </tr>\n",
              "    <tr>\n",
              "      <th>178</th>\n",
              "      <td>858</td>\n",
              "      <td>2.98</td>\n",
              "      <td>2.59</td>\n",
              "      <td>2.72</td>\n",
              "      <td>3.16</td>\n",
              "      <td>2.94</td>\n",
              "      <td>3.11</td>\n",
              "      <td>3.06</td>\n",
              "    </tr>\n",
              "    <tr>\n",
              "      <th>179</th>\n",
              "      <td>835</td>\n",
              "      <td>2.77</td>\n",
              "      <td>2.80</td>\n",
              "      <td>2.85</td>\n",
              "      <td>2.88</td>\n",
              "      <td>2.94</td>\n",
              "      <td>2.68</td>\n",
              "      <td>2.86</td>\n",
              "    </tr>\n",
              "    <tr>\n",
              "      <th>180</th>\n",
              "      <td>725</td>\n",
              "      <td>2.87</td>\n",
              "      <td>2.64</td>\n",
              "      <td>2.85</td>\n",
              "      <td>3.02</td>\n",
              "      <td>2.75</td>\n",
              "      <td>3.00</td>\n",
              "      <td>3.00</td>\n",
              "    </tr>\n",
              "    <tr>\n",
              "      <th>181</th>\n",
              "      <td>849</td>\n",
              "      <td>3.27</td>\n",
              "      <td>3.43</td>\n",
              "      <td>3.45</td>\n",
              "      <td>3.30</td>\n",
              "      <td>3.35</td>\n",
              "      <td>3.36</td>\n",
              "      <td>3.26</td>\n",
              "    </tr>\n",
              "    <tr>\n",
              "      <th>182</th>\n",
              "      <td>805</td>\n",
              "      <td>3.12</td>\n",
              "      <td>2.81</td>\n",
              "      <td>2.68</td>\n",
              "      <td>2.74</td>\n",
              "      <td>2.75</td>\n",
              "      <td>2.87</td>\n",
              "      <td>3.32</td>\n",
              "    </tr>\n",
              "  </tbody>\n",
              "</table>\n",
              "<p>183 rows × 8 columns</p>\n",
              "</div>"
            ],
            "text/plain": [
              "     I_no    S1    S2    S3    S4    S5    S6  target\n",
              "0     906  3.59  3.68  3.87  3.57  3.58  3.64    3.26\n",
              "1     905  2.92  2.87  3.09  2.86  2.72  3.17    2.92\n",
              "2     863  3.09  3.23  3.02  3.21  3.09  2.96    2.88\n",
              "3     882  2.62  3.09  3.00  2.68  2.65  3.13    3.00\n",
              "4     904  3.29  3.06  3.19  3.15  3.32  3.30    3.34\n",
              "..    ...   ...   ...   ...   ...   ...   ...     ...\n",
              "178   858  2.98  2.59  2.72  3.16  2.94  3.11    3.06\n",
              "179   835  2.77  2.80  2.85  2.88  2.94  2.68    2.86\n",
              "180   725  2.87  2.64  2.85  3.02  2.75  3.00    3.00\n",
              "181   849  3.27  3.43  3.45  3.30  3.35  3.36    3.26\n",
              "182   805  3.12  2.81  2.68  2.74  2.75  2.87    3.32\n",
              "\n",
              "[183 rows x 8 columns]"
            ]
          },
          "metadata": {
            "tags": []
          },
          "execution_count": 25
        }
      ]
    },
    {
      "cell_type": "code",
      "metadata": {
        "scrolled": true,
        "colab": {
          "base_uri": "https://localhost:8080/",
          "height": 406
        },
        "id": "9s7kco8wezbe",
        "outputId": "9c462e0a-447c-4b75-c57f-84c76811fd87"
      },
      "source": [
        "df_7th"
      ],
      "execution_count": null,
      "outputs": [
        {
          "output_type": "execute_result",
          "data": {
            "text/html": [
              "<div>\n",
              "<style scoped>\n",
              "    .dataframe tbody tr th:only-of-type {\n",
              "        vertical-align: middle;\n",
              "    }\n",
              "\n",
              "    .dataframe tbody tr th {\n",
              "        vertical-align: top;\n",
              "    }\n",
              "\n",
              "    .dataframe thead th {\n",
              "        text-align: right;\n",
              "    }\n",
              "</style>\n",
              "<table border=\"1\" class=\"dataframe\">\n",
              "  <thead>\n",
              "    <tr style=\"text-align: right;\">\n",
              "      <th></th>\n",
              "      <th>I_no</th>\n",
              "      <th>S1</th>\n",
              "      <th>S2</th>\n",
              "      <th>S3</th>\n",
              "      <th>S4</th>\n",
              "      <th>S5</th>\n",
              "      <th>S6</th>\n",
              "      <th>target</th>\n",
              "    </tr>\n",
              "  </thead>\n",
              "  <tbody>\n",
              "    <tr>\n",
              "      <th>0</th>\n",
              "      <td>906</td>\n",
              "      <td>3.59</td>\n",
              "      <td>3.68</td>\n",
              "      <td>3.87</td>\n",
              "      <td>3.57</td>\n",
              "      <td>3.58</td>\n",
              "      <td>3.64</td>\n",
              "      <td>3.26</td>\n",
              "    </tr>\n",
              "    <tr>\n",
              "      <th>1</th>\n",
              "      <td>905</td>\n",
              "      <td>2.92</td>\n",
              "      <td>2.87</td>\n",
              "      <td>3.09</td>\n",
              "      <td>2.86</td>\n",
              "      <td>2.72</td>\n",
              "      <td>3.17</td>\n",
              "      <td>2.92</td>\n",
              "    </tr>\n",
              "    <tr>\n",
              "      <th>2</th>\n",
              "      <td>863</td>\n",
              "      <td>3.09</td>\n",
              "      <td>3.23</td>\n",
              "      <td>3.02</td>\n",
              "      <td>3.21</td>\n",
              "      <td>3.09</td>\n",
              "      <td>2.96</td>\n",
              "      <td>2.88</td>\n",
              "    </tr>\n",
              "    <tr>\n",
              "      <th>3</th>\n",
              "      <td>882</td>\n",
              "      <td>2.62</td>\n",
              "      <td>3.09</td>\n",
              "      <td>3.00</td>\n",
              "      <td>2.68</td>\n",
              "      <td>2.65</td>\n",
              "      <td>3.13</td>\n",
              "      <td>3.00</td>\n",
              "    </tr>\n",
              "    <tr>\n",
              "      <th>4</th>\n",
              "      <td>904</td>\n",
              "      <td>3.29</td>\n",
              "      <td>3.06</td>\n",
              "      <td>3.19</td>\n",
              "      <td>3.15</td>\n",
              "      <td>3.32</td>\n",
              "      <td>3.30</td>\n",
              "      <td>3.34</td>\n",
              "    </tr>\n",
              "    <tr>\n",
              "      <th>...</th>\n",
              "      <td>...</td>\n",
              "      <td>...</td>\n",
              "      <td>...</td>\n",
              "      <td>...</td>\n",
              "      <td>...</td>\n",
              "      <td>...</td>\n",
              "      <td>...</td>\n",
              "      <td>...</td>\n",
              "    </tr>\n",
              "    <tr>\n",
              "      <th>178</th>\n",
              "      <td>858</td>\n",
              "      <td>2.98</td>\n",
              "      <td>2.59</td>\n",
              "      <td>2.72</td>\n",
              "      <td>3.16</td>\n",
              "      <td>2.94</td>\n",
              "      <td>3.11</td>\n",
              "      <td>3.06</td>\n",
              "    </tr>\n",
              "    <tr>\n",
              "      <th>179</th>\n",
              "      <td>835</td>\n",
              "      <td>2.77</td>\n",
              "      <td>2.80</td>\n",
              "      <td>2.85</td>\n",
              "      <td>2.88</td>\n",
              "      <td>2.94</td>\n",
              "      <td>2.68</td>\n",
              "      <td>2.86</td>\n",
              "    </tr>\n",
              "    <tr>\n",
              "      <th>180</th>\n",
              "      <td>725</td>\n",
              "      <td>2.87</td>\n",
              "      <td>2.64</td>\n",
              "      <td>2.85</td>\n",
              "      <td>3.02</td>\n",
              "      <td>2.75</td>\n",
              "      <td>3.00</td>\n",
              "      <td>3.00</td>\n",
              "    </tr>\n",
              "    <tr>\n",
              "      <th>181</th>\n",
              "      <td>849</td>\n",
              "      <td>3.27</td>\n",
              "      <td>3.43</td>\n",
              "      <td>3.45</td>\n",
              "      <td>3.30</td>\n",
              "      <td>3.35</td>\n",
              "      <td>3.36</td>\n",
              "      <td>3.26</td>\n",
              "    </tr>\n",
              "    <tr>\n",
              "      <th>182</th>\n",
              "      <td>805</td>\n",
              "      <td>3.12</td>\n",
              "      <td>2.81</td>\n",
              "      <td>2.68</td>\n",
              "      <td>2.74</td>\n",
              "      <td>2.75</td>\n",
              "      <td>2.87</td>\n",
              "      <td>3.32</td>\n",
              "    </tr>\n",
              "  </tbody>\n",
              "</table>\n",
              "<p>183 rows × 8 columns</p>\n",
              "</div>"
            ],
            "text/plain": [
              "     I_no    S1    S2    S3    S4    S5    S6  target\n",
              "0     906  3.59  3.68  3.87  3.57  3.58  3.64    3.26\n",
              "1     905  2.92  2.87  3.09  2.86  2.72  3.17    2.92\n",
              "2     863  3.09  3.23  3.02  3.21  3.09  2.96    2.88\n",
              "3     882  2.62  3.09  3.00  2.68  2.65  3.13    3.00\n",
              "4     904  3.29  3.06  3.19  3.15  3.32  3.30    3.34\n",
              "..    ...   ...   ...   ...   ...   ...   ...     ...\n",
              "178   858  2.98  2.59  2.72  3.16  2.94  3.11    3.06\n",
              "179   835  2.77  2.80  2.85  2.88  2.94  2.68    2.86\n",
              "180   725  2.87  2.64  2.85  3.02  2.75  3.00    3.00\n",
              "181   849  3.27  3.43  3.45  3.30  3.35  3.36    3.26\n",
              "182   805  3.12  2.81  2.68  2.74  2.75  2.87    3.32\n",
              "\n",
              "[183 rows x 8 columns]"
            ]
          },
          "metadata": {
            "tags": []
          },
          "execution_count": 26
        }
      ]
    },
    {
      "cell_type": "code",
      "metadata": {
        "scrolled": false,
        "colab": {
          "base_uri": "https://localhost:8080/",
          "height": 287
        },
        "id": "kltGgAwMezbe",
        "outputId": "65084419-2235-416f-bc70-a8a175ec065a"
      },
      "source": [
        "df_7th.iloc[:,:-1].describe()"
      ],
      "execution_count": null,
      "outputs": [
        {
          "output_type": "execute_result",
          "data": {
            "text/html": [
              "<div>\n",
              "<style scoped>\n",
              "    .dataframe tbody tr th:only-of-type {\n",
              "        vertical-align: middle;\n",
              "    }\n",
              "\n",
              "    .dataframe tbody tr th {\n",
              "        vertical-align: top;\n",
              "    }\n",
              "\n",
              "    .dataframe thead th {\n",
              "        text-align: right;\n",
              "    }\n",
              "</style>\n",
              "<table border=\"1\" class=\"dataframe\">\n",
              "  <thead>\n",
              "    <tr style=\"text-align: right;\">\n",
              "      <th></th>\n",
              "      <th>I_no</th>\n",
              "      <th>S1</th>\n",
              "      <th>S2</th>\n",
              "      <th>S3</th>\n",
              "      <th>S4</th>\n",
              "      <th>S5</th>\n",
              "      <th>S6</th>\n",
              "    </tr>\n",
              "  </thead>\n",
              "  <tbody>\n",
              "    <tr>\n",
              "      <th>count</th>\n",
              "      <td>183.000000</td>\n",
              "      <td>183.000000</td>\n",
              "      <td>183.000000</td>\n",
              "      <td>183.000000</td>\n",
              "      <td>183.000000</td>\n",
              "      <td>183.000000</td>\n",
              "      <td>183.000000</td>\n",
              "    </tr>\n",
              "    <tr>\n",
              "      <th>mean</th>\n",
              "      <td>805.120219</td>\n",
              "      <td>3.069126</td>\n",
              "      <td>3.062350</td>\n",
              "      <td>3.055628</td>\n",
              "      <td>2.980546</td>\n",
              "      <td>3.020055</td>\n",
              "      <td>3.002896</td>\n",
              "    </tr>\n",
              "    <tr>\n",
              "      <th>std</th>\n",
              "      <td>159.980963</td>\n",
              "      <td>0.228688</td>\n",
              "      <td>0.285327</td>\n",
              "      <td>0.343550</td>\n",
              "      <td>0.358992</td>\n",
              "      <td>0.395707</td>\n",
              "      <td>0.457744</td>\n",
              "    </tr>\n",
              "    <tr>\n",
              "      <th>min</th>\n",
              "      <td>0.000000</td>\n",
              "      <td>2.140000</td>\n",
              "      <td>1.890000</td>\n",
              "      <td>1.440000</td>\n",
              "      <td>0.670000</td>\n",
              "      <td>0.000000</td>\n",
              "      <td>0.000000</td>\n",
              "    </tr>\n",
              "    <tr>\n",
              "      <th>25%</th>\n",
              "      <td>817.500000</td>\n",
              "      <td>2.930000</td>\n",
              "      <td>2.910000</td>\n",
              "      <td>2.870000</td>\n",
              "      <td>2.790000</td>\n",
              "      <td>2.800000</td>\n",
              "      <td>2.820000</td>\n",
              "    </tr>\n",
              "    <tr>\n",
              "      <th>50%</th>\n",
              "      <td>844.000000</td>\n",
              "      <td>3.100000</td>\n",
              "      <td>3.080000</td>\n",
              "      <td>3.040000</td>\n",
              "      <td>2.990000</td>\n",
              "      <td>3.050000</td>\n",
              "      <td>3.010000</td>\n",
              "    </tr>\n",
              "    <tr>\n",
              "      <th>75%</th>\n",
              "      <td>874.500000</td>\n",
              "      <td>3.230000</td>\n",
              "      <td>3.230000</td>\n",
              "      <td>3.260000</td>\n",
              "      <td>3.200000</td>\n",
              "      <td>3.245000</td>\n",
              "      <td>3.270000</td>\n",
              "    </tr>\n",
              "    <tr>\n",
              "      <th>max</th>\n",
              "      <td>936.000000</td>\n",
              "      <td>3.590000</td>\n",
              "      <td>3.740000</td>\n",
              "      <td>3.870000</td>\n",
              "      <td>3.860000</td>\n",
              "      <td>3.820000</td>\n",
              "      <td>3.830000</td>\n",
              "    </tr>\n",
              "  </tbody>\n",
              "</table>\n",
              "</div>"
            ],
            "text/plain": [
              "             I_no          S1          S2  ...          S4          S5          S6\n",
              "count  183.000000  183.000000  183.000000  ...  183.000000  183.000000  183.000000\n",
              "mean   805.120219    3.069126    3.062350  ...    2.980546    3.020055    3.002896\n",
              "std    159.980963    0.228688    0.285327  ...    0.358992    0.395707    0.457744\n",
              "min      0.000000    2.140000    1.890000  ...    0.670000    0.000000    0.000000\n",
              "25%    817.500000    2.930000    2.910000  ...    2.790000    2.800000    2.820000\n",
              "50%    844.000000    3.100000    3.080000  ...    2.990000    3.050000    3.010000\n",
              "75%    874.500000    3.230000    3.230000  ...    3.200000    3.245000    3.270000\n",
              "max    936.000000    3.590000    3.740000  ...    3.860000    3.820000    3.830000\n",
              "\n",
              "[8 rows x 7 columns]"
            ]
          },
          "metadata": {
            "tags": []
          },
          "execution_count": 27
        }
      ]
    },
    {
      "cell_type": "code",
      "metadata": {
        "colab": {
          "base_uri": "https://localhost:8080/",
          "height": 257
        },
        "id": "mrNRBjRzezbe",
        "outputId": "2f7dccb4-51d4-4e1a-89ef-c15a64d2ff4a"
      },
      "source": [
        "df_7th.iloc[:,:-1].corr()"
      ],
      "execution_count": null,
      "outputs": [
        {
          "output_type": "execute_result",
          "data": {
            "text/html": [
              "<div>\n",
              "<style scoped>\n",
              "    .dataframe tbody tr th:only-of-type {\n",
              "        vertical-align: middle;\n",
              "    }\n",
              "\n",
              "    .dataframe tbody tr th {\n",
              "        vertical-align: top;\n",
              "    }\n",
              "\n",
              "    .dataframe thead th {\n",
              "        text-align: right;\n",
              "    }\n",
              "</style>\n",
              "<table border=\"1\" class=\"dataframe\">\n",
              "  <thead>\n",
              "    <tr style=\"text-align: right;\">\n",
              "      <th></th>\n",
              "      <th>I_no</th>\n",
              "      <th>S1</th>\n",
              "      <th>S2</th>\n",
              "      <th>S3</th>\n",
              "      <th>S4</th>\n",
              "      <th>S5</th>\n",
              "      <th>S6</th>\n",
              "    </tr>\n",
              "  </thead>\n",
              "  <tbody>\n",
              "    <tr>\n",
              "      <th>I_no</th>\n",
              "      <td>1.000000</td>\n",
              "      <td>0.081146</td>\n",
              "      <td>0.046536</td>\n",
              "      <td>0.077233</td>\n",
              "      <td>0.101400</td>\n",
              "      <td>0.036989</td>\n",
              "      <td>0.016815</td>\n",
              "    </tr>\n",
              "    <tr>\n",
              "      <th>S1</th>\n",
              "      <td>0.081146</td>\n",
              "      <td>1.000000</td>\n",
              "      <td>0.302365</td>\n",
              "      <td>0.367928</td>\n",
              "      <td>0.328496</td>\n",
              "      <td>0.349100</td>\n",
              "      <td>0.304877</td>\n",
              "    </tr>\n",
              "    <tr>\n",
              "      <th>S2</th>\n",
              "      <td>0.046536</td>\n",
              "      <td>0.302365</td>\n",
              "      <td>1.000000</td>\n",
              "      <td>0.724270</td>\n",
              "      <td>0.647746</td>\n",
              "      <td>0.642876</td>\n",
              "      <td>0.540834</td>\n",
              "    </tr>\n",
              "    <tr>\n",
              "      <th>S3</th>\n",
              "      <td>0.077233</td>\n",
              "      <td>0.367928</td>\n",
              "      <td>0.724270</td>\n",
              "      <td>1.000000</td>\n",
              "      <td>0.748584</td>\n",
              "      <td>0.662057</td>\n",
              "      <td>0.646376</td>\n",
              "    </tr>\n",
              "    <tr>\n",
              "      <th>S4</th>\n",
              "      <td>0.101400</td>\n",
              "      <td>0.328496</td>\n",
              "      <td>0.647746</td>\n",
              "      <td>0.748584</td>\n",
              "      <td>1.000000</td>\n",
              "      <td>0.744178</td>\n",
              "      <td>0.776215</td>\n",
              "    </tr>\n",
              "    <tr>\n",
              "      <th>S5</th>\n",
              "      <td>0.036989</td>\n",
              "      <td>0.349100</td>\n",
              "      <td>0.642876</td>\n",
              "      <td>0.662057</td>\n",
              "      <td>0.744178</td>\n",
              "      <td>1.000000</td>\n",
              "      <td>0.765873</td>\n",
              "    </tr>\n",
              "    <tr>\n",
              "      <th>S6</th>\n",
              "      <td>0.016815</td>\n",
              "      <td>0.304877</td>\n",
              "      <td>0.540834</td>\n",
              "      <td>0.646376</td>\n",
              "      <td>0.776215</td>\n",
              "      <td>0.765873</td>\n",
              "      <td>1.000000</td>\n",
              "    </tr>\n",
              "  </tbody>\n",
              "</table>\n",
              "</div>"
            ],
            "text/plain": [
              "          I_no        S1        S2        S3        S4        S5        S6\n",
              "I_no  1.000000  0.081146  0.046536  0.077233  0.101400  0.036989  0.016815\n",
              "S1    0.081146  1.000000  0.302365  0.367928  0.328496  0.349100  0.304877\n",
              "S2    0.046536  0.302365  1.000000  0.724270  0.647746  0.642876  0.540834\n",
              "S3    0.077233  0.367928  0.724270  1.000000  0.748584  0.662057  0.646376\n",
              "S4    0.101400  0.328496  0.647746  0.748584  1.000000  0.744178  0.776215\n",
              "S5    0.036989  0.349100  0.642876  0.662057  0.744178  1.000000  0.765873\n",
              "S6    0.016815  0.304877  0.540834  0.646376  0.776215  0.765873  1.000000"
            ]
          },
          "metadata": {
            "tags": []
          },
          "execution_count": 28
        }
      ]
    },
    {
      "cell_type": "code",
      "metadata": {
        "id": "PTpT8IXZezbe"
      },
      "source": [
        ""
      ],
      "execution_count": null,
      "outputs": []
    },
    {
      "cell_type": "code",
      "metadata": {
        "colab": {
          "base_uri": "https://localhost:8080/",
          "height": 424
        },
        "id": "inBy3rgkezbe",
        "outputId": "de6b33a0-4a39-43ce-84b4-3b5080acdaf3"
      },
      "source": [
        "scaled_7thsem = pd.DataFrame(StandardScaler().fit_transform(df_7th.iloc[:,:-1]),\n",
        "                            columns = df_7th.columns[:-1])\n",
        "print(\"Scaled 7th semester data \")\n",
        "scaled_7thsem = pd.concat([scaled_7thsem,df_7th['target']],axis = 1)\n",
        "scaled_7thsem"
      ],
      "execution_count": null,
      "outputs": [
        {
          "output_type": "stream",
          "text": [
            "Scaled 7th semester data \n"
          ],
          "name": "stdout"
        },
        {
          "output_type": "execute_result",
          "data": {
            "text/html": [
              "<div>\n",
              "<style scoped>\n",
              "    .dataframe tbody tr th:only-of-type {\n",
              "        vertical-align: middle;\n",
              "    }\n",
              "\n",
              "    .dataframe tbody tr th {\n",
              "        vertical-align: top;\n",
              "    }\n",
              "\n",
              "    .dataframe thead th {\n",
              "        text-align: right;\n",
              "    }\n",
              "</style>\n",
              "<table border=\"1\" class=\"dataframe\">\n",
              "  <thead>\n",
              "    <tr style=\"text-align: right;\">\n",
              "      <th></th>\n",
              "      <th>I_no</th>\n",
              "      <th>S1</th>\n",
              "      <th>S2</th>\n",
              "      <th>S3</th>\n",
              "      <th>S4</th>\n",
              "      <th>S5</th>\n",
              "      <th>S6</th>\n",
              "      <th>target</th>\n",
              "    </tr>\n",
              "  </thead>\n",
              "  <tbody>\n",
              "    <tr>\n",
              "      <th>0</th>\n",
              "      <td>0.632304</td>\n",
              "      <td>2.283914</td>\n",
              "      <td>2.170649</td>\n",
              "      <td>2.376960</td>\n",
              "      <td>1.646472</td>\n",
              "      <td>1.418932</td>\n",
              "      <td>1.395653</td>\n",
              "      <td>3.26</td>\n",
              "    </tr>\n",
              "    <tr>\n",
              "      <th>1</th>\n",
              "      <td>0.626036</td>\n",
              "      <td>-0.653882</td>\n",
              "      <td>-0.675987</td>\n",
              "      <td>0.100323</td>\n",
              "      <td>-0.336712</td>\n",
              "      <td>-0.760355</td>\n",
              "      <td>0.366061</td>\n",
              "      <td>2.92</td>\n",
              "    </tr>\n",
              "    <tr>\n",
              "      <th>2</th>\n",
              "      <td>0.362784</td>\n",
              "      <td>0.091529</td>\n",
              "      <td>0.589184</td>\n",
              "      <td>-0.103991</td>\n",
              "      <td>0.640913</td>\n",
              "      <td>0.177245</td>\n",
              "      <td>-0.093969</td>\n",
              "      <td>2.88</td>\n",
              "    </tr>\n",
              "    <tr>\n",
              "      <th>3</th>\n",
              "      <td>0.481874</td>\n",
              "      <td>-1.969313</td>\n",
              "      <td>0.097173</td>\n",
              "      <td>-0.162366</td>\n",
              "      <td>-0.839491</td>\n",
              "      <td>-0.937739</td>\n",
              "      <td>0.278436</td>\n",
              "      <td>3.00</td>\n",
              "    </tr>\n",
              "    <tr>\n",
              "      <th>4</th>\n",
              "      <td>0.619768</td>\n",
              "      <td>0.968483</td>\n",
              "      <td>-0.008258</td>\n",
              "      <td>0.392199</td>\n",
              "      <td>0.473320</td>\n",
              "      <td>0.760078</td>\n",
              "      <td>0.650842</td>\n",
              "      <td>3.34</td>\n",
              "    </tr>\n",
              "    <tr>\n",
              "      <th>...</th>\n",
              "      <td>...</td>\n",
              "      <td>...</td>\n",
              "      <td>...</td>\n",
              "      <td>...</td>\n",
              "      <td>...</td>\n",
              "      <td>...</td>\n",
              "      <td>...</td>\n",
              "      <td>...</td>\n",
              "    </tr>\n",
              "    <tr>\n",
              "      <th>178</th>\n",
              "      <td>0.331445</td>\n",
              "      <td>-0.390796</td>\n",
              "      <td>-1.660010</td>\n",
              "      <td>-0.979621</td>\n",
              "      <td>0.501253</td>\n",
              "      <td>-0.202863</td>\n",
              "      <td>0.234624</td>\n",
              "      <td>3.06</td>\n",
              "    </tr>\n",
              "    <tr>\n",
              "      <th>179</th>\n",
              "      <td>0.187283</td>\n",
              "      <td>-1.311597</td>\n",
              "      <td>-0.921993</td>\n",
              "      <td>-0.600181</td>\n",
              "      <td>-0.280848</td>\n",
              "      <td>-0.202863</td>\n",
              "      <td>-0.707343</td>\n",
              "      <td>2.86</td>\n",
              "    </tr>\n",
              "    <tr>\n",
              "      <th>180</th>\n",
              "      <td>-0.502185</td>\n",
              "      <td>-0.873120</td>\n",
              "      <td>-1.484292</td>\n",
              "      <td>-0.600181</td>\n",
              "      <td>0.110202</td>\n",
              "      <td>-0.684333</td>\n",
              "      <td>-0.006344</td>\n",
              "      <td>3.00</td>\n",
              "    </tr>\n",
              "    <tr>\n",
              "      <th>181</th>\n",
              "      <td>0.275034</td>\n",
              "      <td>0.880788</td>\n",
              "      <td>1.292058</td>\n",
              "      <td>1.151078</td>\n",
              "      <td>0.892303</td>\n",
              "      <td>0.836100</td>\n",
              "      <td>0.782279</td>\n",
              "      <td>3.26</td>\n",
              "    </tr>\n",
              "    <tr>\n",
              "      <th>182</th>\n",
              "      <td>-0.000754</td>\n",
              "      <td>0.223072</td>\n",
              "      <td>-0.886849</td>\n",
              "      <td>-1.096371</td>\n",
              "      <td>-0.671898</td>\n",
              "      <td>-0.684333</td>\n",
              "      <td>-0.291125</td>\n",
              "      <td>3.32</td>\n",
              "    </tr>\n",
              "  </tbody>\n",
              "</table>\n",
              "<p>183 rows × 8 columns</p>\n",
              "</div>"
            ],
            "text/plain": [
              "         I_no        S1        S2  ...        S5        S6  target\n",
              "0    0.632304  2.283914  2.170649  ...  1.418932  1.395653    3.26\n",
              "1    0.626036 -0.653882 -0.675987  ... -0.760355  0.366061    2.92\n",
              "2    0.362784  0.091529  0.589184  ...  0.177245 -0.093969    2.88\n",
              "3    0.481874 -1.969313  0.097173  ... -0.937739  0.278436    3.00\n",
              "4    0.619768  0.968483 -0.008258  ...  0.760078  0.650842    3.34\n",
              "..        ...       ...       ...  ...       ...       ...     ...\n",
              "178  0.331445 -0.390796 -1.660010  ... -0.202863  0.234624    3.06\n",
              "179  0.187283 -1.311597 -0.921993  ... -0.202863 -0.707343    2.86\n",
              "180 -0.502185 -0.873120 -1.484292  ... -0.684333 -0.006344    3.00\n",
              "181  0.275034  0.880788  1.292058  ...  0.836100  0.782279    3.26\n",
              "182 -0.000754  0.223072 -0.886849  ... -0.684333 -0.291125    3.32\n",
              "\n",
              "[183 rows x 8 columns]"
            ]
          },
          "metadata": {
            "tags": []
          },
          "execution_count": 29
        }
      ]
    },
    {
      "cell_type": "code",
      "metadata": {
        "id": "CKjpIO3Aezbe"
      },
      "source": [
        "X8 = {'I_no':[],'S1':[],'S2':[],'S3':[],'S4':[],'S5':[],'S6':[],'S7':[]}\n",
        "Y8 = {\"target\":[]}\n",
        "for i in df['RN'].unique():\n",
        "    \n",
        "    if len(df[df['RN'] == i]['sgpa']) == 8:\n",
        "        X8['I_no'].append(df[df['RN']==i]['I_MARKS'].iloc[0])\n",
        "        for index,value in enumerate(df[df['RN'] == i][:7]['sgpa']):\n",
        "            X8['S{}'.format(index+1)].append(value)\n",
        "for i in df['RN'].unique():\n",
        "    if len(df[df['RN'] == i]['sgpa']) == 8:\n",
        "        Y8['target'].append(df[df['RN'] == i].iloc[7]['sgpa'])\n",
        "            \n"
      ],
      "execution_count": null,
      "outputs": []
    },
    {
      "cell_type": "code",
      "metadata": {
        "colab": {
          "base_uri": "https://localhost:8080/",
          "height": 424
        },
        "id": "v3gdt8c1ezbe",
        "outputId": "e736b12b-4a66-44d9-dbe0-41e716876219"
      },
      "source": [
        "df_8th = pd.concat([pd.DataFrame(X8),pd.DataFrame(Y8)],axis = 1)\n",
        "print(\"Train and target variables for 8th semester\")\n",
        "df_8th"
      ],
      "execution_count": null,
      "outputs": [
        {
          "output_type": "stream",
          "text": [
            "Train and target variables for 8th semester\n"
          ],
          "name": "stdout"
        },
        {
          "output_type": "execute_result",
          "data": {
            "text/html": [
              "<div>\n",
              "<style scoped>\n",
              "    .dataframe tbody tr th:only-of-type {\n",
              "        vertical-align: middle;\n",
              "    }\n",
              "\n",
              "    .dataframe tbody tr th {\n",
              "        vertical-align: top;\n",
              "    }\n",
              "\n",
              "    .dataframe thead th {\n",
              "        text-align: right;\n",
              "    }\n",
              "</style>\n",
              "<table border=\"1\" class=\"dataframe\">\n",
              "  <thead>\n",
              "    <tr style=\"text-align: right;\">\n",
              "      <th></th>\n",
              "      <th>I_no</th>\n",
              "      <th>S1</th>\n",
              "      <th>S2</th>\n",
              "      <th>S3</th>\n",
              "      <th>S4</th>\n",
              "      <th>S5</th>\n",
              "      <th>S6</th>\n",
              "      <th>S7</th>\n",
              "      <th>target</th>\n",
              "    </tr>\n",
              "  </thead>\n",
              "  <tbody>\n",
              "    <tr>\n",
              "      <th>0</th>\n",
              "      <td>906</td>\n",
              "      <td>3.59</td>\n",
              "      <td>3.68</td>\n",
              "      <td>3.87</td>\n",
              "      <td>3.57</td>\n",
              "      <td>3.58</td>\n",
              "      <td>3.64</td>\n",
              "      <td>3.26</td>\n",
              "      <td>3.77</td>\n",
              "    </tr>\n",
              "    <tr>\n",
              "      <th>1</th>\n",
              "      <td>905</td>\n",
              "      <td>2.92</td>\n",
              "      <td>2.87</td>\n",
              "      <td>3.09</td>\n",
              "      <td>2.86</td>\n",
              "      <td>2.72</td>\n",
              "      <td>3.17</td>\n",
              "      <td>2.92</td>\n",
              "      <td>3.24</td>\n",
              "    </tr>\n",
              "    <tr>\n",
              "      <th>2</th>\n",
              "      <td>863</td>\n",
              "      <td>3.09</td>\n",
              "      <td>3.23</td>\n",
              "      <td>3.02</td>\n",
              "      <td>3.21</td>\n",
              "      <td>3.09</td>\n",
              "      <td>2.96</td>\n",
              "      <td>2.88</td>\n",
              "      <td>3.57</td>\n",
              "    </tr>\n",
              "    <tr>\n",
              "      <th>3</th>\n",
              "      <td>882</td>\n",
              "      <td>2.62</td>\n",
              "      <td>3.09</td>\n",
              "      <td>3.00</td>\n",
              "      <td>2.68</td>\n",
              "      <td>2.65</td>\n",
              "      <td>3.13</td>\n",
              "      <td>3.00</td>\n",
              "      <td>3.43</td>\n",
              "    </tr>\n",
              "    <tr>\n",
              "      <th>4</th>\n",
              "      <td>904</td>\n",
              "      <td>3.29</td>\n",
              "      <td>3.06</td>\n",
              "      <td>3.19</td>\n",
              "      <td>3.15</td>\n",
              "      <td>3.32</td>\n",
              "      <td>3.30</td>\n",
              "      <td>3.34</td>\n",
              "      <td>3.47</td>\n",
              "    </tr>\n",
              "    <tr>\n",
              "      <th>...</th>\n",
              "      <td>...</td>\n",
              "      <td>...</td>\n",
              "      <td>...</td>\n",
              "      <td>...</td>\n",
              "      <td>...</td>\n",
              "      <td>...</td>\n",
              "      <td>...</td>\n",
              "      <td>...</td>\n",
              "      <td>...</td>\n",
              "    </tr>\n",
              "    <tr>\n",
              "      <th>178</th>\n",
              "      <td>858</td>\n",
              "      <td>2.98</td>\n",
              "      <td>2.59</td>\n",
              "      <td>2.72</td>\n",
              "      <td>3.16</td>\n",
              "      <td>2.94</td>\n",
              "      <td>3.11</td>\n",
              "      <td>3.06</td>\n",
              "      <td>3.33</td>\n",
              "    </tr>\n",
              "    <tr>\n",
              "      <th>179</th>\n",
              "      <td>835</td>\n",
              "      <td>2.77</td>\n",
              "      <td>2.80</td>\n",
              "      <td>2.85</td>\n",
              "      <td>2.88</td>\n",
              "      <td>2.94</td>\n",
              "      <td>2.68</td>\n",
              "      <td>2.86</td>\n",
              "      <td>3.16</td>\n",
              "    </tr>\n",
              "    <tr>\n",
              "      <th>180</th>\n",
              "      <td>725</td>\n",
              "      <td>2.87</td>\n",
              "      <td>2.64</td>\n",
              "      <td>2.85</td>\n",
              "      <td>3.02</td>\n",
              "      <td>2.75</td>\n",
              "      <td>3.00</td>\n",
              "      <td>3.00</td>\n",
              "      <td>3.01</td>\n",
              "    </tr>\n",
              "    <tr>\n",
              "      <th>181</th>\n",
              "      <td>849</td>\n",
              "      <td>3.27</td>\n",
              "      <td>3.43</td>\n",
              "      <td>3.45</td>\n",
              "      <td>3.30</td>\n",
              "      <td>3.35</td>\n",
              "      <td>3.36</td>\n",
              "      <td>3.26</td>\n",
              "      <td>3.47</td>\n",
              "    </tr>\n",
              "    <tr>\n",
              "      <th>182</th>\n",
              "      <td>805</td>\n",
              "      <td>3.12</td>\n",
              "      <td>2.81</td>\n",
              "      <td>2.68</td>\n",
              "      <td>2.74</td>\n",
              "      <td>2.75</td>\n",
              "      <td>2.87</td>\n",
              "      <td>3.32</td>\n",
              "      <td>2.86</td>\n",
              "    </tr>\n",
              "  </tbody>\n",
              "</table>\n",
              "<p>183 rows × 9 columns</p>\n",
              "</div>"
            ],
            "text/plain": [
              "     I_no    S1    S2    S3    S4    S5    S6    S7  target\n",
              "0     906  3.59  3.68  3.87  3.57  3.58  3.64  3.26    3.77\n",
              "1     905  2.92  2.87  3.09  2.86  2.72  3.17  2.92    3.24\n",
              "2     863  3.09  3.23  3.02  3.21  3.09  2.96  2.88    3.57\n",
              "3     882  2.62  3.09  3.00  2.68  2.65  3.13  3.00    3.43\n",
              "4     904  3.29  3.06  3.19  3.15  3.32  3.30  3.34    3.47\n",
              "..    ...   ...   ...   ...   ...   ...   ...   ...     ...\n",
              "178   858  2.98  2.59  2.72  3.16  2.94  3.11  3.06    3.33\n",
              "179   835  2.77  2.80  2.85  2.88  2.94  2.68  2.86    3.16\n",
              "180   725  2.87  2.64  2.85  3.02  2.75  3.00  3.00    3.01\n",
              "181   849  3.27  3.43  3.45  3.30  3.35  3.36  3.26    3.47\n",
              "182   805  3.12  2.81  2.68  2.74  2.75  2.87  3.32    2.86\n",
              "\n",
              "[183 rows x 9 columns]"
            ]
          },
          "metadata": {
            "tags": []
          },
          "execution_count": 31
        }
      ]
    },
    {
      "cell_type": "code",
      "metadata": {
        "scrolled": true,
        "colab": {
          "base_uri": "https://localhost:8080/",
          "height": 424
        },
        "id": "IMR-9mzSezbf",
        "outputId": "d0d08edc-2959-485a-90dc-7bcb18068948"
      },
      "source": [
        "scaled_8thsem = pd.DataFrame(StandardScaler().fit_transform(df_8th.iloc[:,:-1]),\n",
        "                            columns = df_8th.columns[:-1])\n",
        "print(\"Scaled 8th semester data \")\n",
        "scaled_8thsem = pd.concat([scaled_8thsem,df_8th['target']],axis = 1)\n",
        "scaled_8thsem"
      ],
      "execution_count": null,
      "outputs": [
        {
          "output_type": "stream",
          "text": [
            "Scaled 8th semester data \n"
          ],
          "name": "stdout"
        },
        {
          "output_type": "execute_result",
          "data": {
            "text/html": [
              "<div>\n",
              "<style scoped>\n",
              "    .dataframe tbody tr th:only-of-type {\n",
              "        vertical-align: middle;\n",
              "    }\n",
              "\n",
              "    .dataframe tbody tr th {\n",
              "        vertical-align: top;\n",
              "    }\n",
              "\n",
              "    .dataframe thead th {\n",
              "        text-align: right;\n",
              "    }\n",
              "</style>\n",
              "<table border=\"1\" class=\"dataframe\">\n",
              "  <thead>\n",
              "    <tr style=\"text-align: right;\">\n",
              "      <th></th>\n",
              "      <th>I_no</th>\n",
              "      <th>S1</th>\n",
              "      <th>S2</th>\n",
              "      <th>S3</th>\n",
              "      <th>S4</th>\n",
              "      <th>S5</th>\n",
              "      <th>S6</th>\n",
              "      <th>S7</th>\n",
              "      <th>target</th>\n",
              "    </tr>\n",
              "  </thead>\n",
              "  <tbody>\n",
              "    <tr>\n",
              "      <th>0</th>\n",
              "      <td>0.632304</td>\n",
              "      <td>2.283914</td>\n",
              "      <td>2.170649</td>\n",
              "      <td>2.376960</td>\n",
              "      <td>1.646472</td>\n",
              "      <td>1.418932</td>\n",
              "      <td>1.395653</td>\n",
              "      <td>0.602329</td>\n",
              "      <td>3.77</td>\n",
              "    </tr>\n",
              "    <tr>\n",
              "      <th>1</th>\n",
              "      <td>0.626036</td>\n",
              "      <td>-0.653882</td>\n",
              "      <td>-0.675987</td>\n",
              "      <td>0.100323</td>\n",
              "      <td>-0.336712</td>\n",
              "      <td>-0.760355</td>\n",
              "      <td>0.366061</td>\n",
              "      <td>-0.073418</td>\n",
              "      <td>3.24</td>\n",
              "    </tr>\n",
              "    <tr>\n",
              "      <th>2</th>\n",
              "      <td>0.362784</td>\n",
              "      <td>0.091529</td>\n",
              "      <td>0.589184</td>\n",
              "      <td>-0.103991</td>\n",
              "      <td>0.640913</td>\n",
              "      <td>0.177245</td>\n",
              "      <td>-0.093969</td>\n",
              "      <td>-0.152917</td>\n",
              "      <td>3.57</td>\n",
              "    </tr>\n",
              "    <tr>\n",
              "      <th>3</th>\n",
              "      <td>0.481874</td>\n",
              "      <td>-1.969313</td>\n",
              "      <td>0.097173</td>\n",
              "      <td>-0.162366</td>\n",
              "      <td>-0.839491</td>\n",
              "      <td>-0.937739</td>\n",
              "      <td>0.278436</td>\n",
              "      <td>0.085582</td>\n",
              "      <td>3.43</td>\n",
              "    </tr>\n",
              "    <tr>\n",
              "      <th>4</th>\n",
              "      <td>0.619768</td>\n",
              "      <td>0.968483</td>\n",
              "      <td>-0.008258</td>\n",
              "      <td>0.392199</td>\n",
              "      <td>0.473320</td>\n",
              "      <td>0.760078</td>\n",
              "      <td>0.650842</td>\n",
              "      <td>0.761329</td>\n",
              "      <td>3.47</td>\n",
              "    </tr>\n",
              "    <tr>\n",
              "      <th>...</th>\n",
              "      <td>...</td>\n",
              "      <td>...</td>\n",
              "      <td>...</td>\n",
              "      <td>...</td>\n",
              "      <td>...</td>\n",
              "      <td>...</td>\n",
              "      <td>...</td>\n",
              "      <td>...</td>\n",
              "      <td>...</td>\n",
              "    </tr>\n",
              "    <tr>\n",
              "      <th>178</th>\n",
              "      <td>0.331445</td>\n",
              "      <td>-0.390796</td>\n",
              "      <td>-1.660010</td>\n",
              "      <td>-0.979621</td>\n",
              "      <td>0.501253</td>\n",
              "      <td>-0.202863</td>\n",
              "      <td>0.234624</td>\n",
              "      <td>0.204831</td>\n",
              "      <td>3.33</td>\n",
              "    </tr>\n",
              "    <tr>\n",
              "      <th>179</th>\n",
              "      <td>0.187283</td>\n",
              "      <td>-1.311597</td>\n",
              "      <td>-0.921993</td>\n",
              "      <td>-0.600181</td>\n",
              "      <td>-0.280848</td>\n",
              "      <td>-0.202863</td>\n",
              "      <td>-0.707343</td>\n",
              "      <td>-0.192667</td>\n",
              "      <td>3.16</td>\n",
              "    </tr>\n",
              "    <tr>\n",
              "      <th>180</th>\n",
              "      <td>-0.502185</td>\n",
              "      <td>-0.873120</td>\n",
              "      <td>-1.484292</td>\n",
              "      <td>-0.600181</td>\n",
              "      <td>0.110202</td>\n",
              "      <td>-0.684333</td>\n",
              "      <td>-0.006344</td>\n",
              "      <td>0.085582</td>\n",
              "      <td>3.01</td>\n",
              "    </tr>\n",
              "    <tr>\n",
              "      <th>181</th>\n",
              "      <td>0.275034</td>\n",
              "      <td>0.880788</td>\n",
              "      <td>1.292058</td>\n",
              "      <td>1.151078</td>\n",
              "      <td>0.892303</td>\n",
              "      <td>0.836100</td>\n",
              "      <td>0.782279</td>\n",
              "      <td>0.602329</td>\n",
              "      <td>3.47</td>\n",
              "    </tr>\n",
              "    <tr>\n",
              "      <th>182</th>\n",
              "      <td>-0.000754</td>\n",
              "      <td>0.223072</td>\n",
              "      <td>-0.886849</td>\n",
              "      <td>-1.096371</td>\n",
              "      <td>-0.671898</td>\n",
              "      <td>-0.684333</td>\n",
              "      <td>-0.291125</td>\n",
              "      <td>0.721579</td>\n",
              "      <td>2.86</td>\n",
              "    </tr>\n",
              "  </tbody>\n",
              "</table>\n",
              "<p>183 rows × 9 columns</p>\n",
              "</div>"
            ],
            "text/plain": [
              "         I_no        S1        S2  ...        S6        S7  target\n",
              "0    0.632304  2.283914  2.170649  ...  1.395653  0.602329    3.77\n",
              "1    0.626036 -0.653882 -0.675987  ...  0.366061 -0.073418    3.24\n",
              "2    0.362784  0.091529  0.589184  ... -0.093969 -0.152917    3.57\n",
              "3    0.481874 -1.969313  0.097173  ...  0.278436  0.085582    3.43\n",
              "4    0.619768  0.968483 -0.008258  ...  0.650842  0.761329    3.47\n",
              "..        ...       ...       ...  ...       ...       ...     ...\n",
              "178  0.331445 -0.390796 -1.660010  ...  0.234624  0.204831    3.33\n",
              "179  0.187283 -1.311597 -0.921993  ... -0.707343 -0.192667    3.16\n",
              "180 -0.502185 -0.873120 -1.484292  ... -0.006344  0.085582    3.01\n",
              "181  0.275034  0.880788  1.292058  ...  0.782279  0.602329    3.47\n",
              "182 -0.000754  0.223072 -0.886849  ... -0.291125  0.721579    2.86\n",
              "\n",
              "[183 rows x 9 columns]"
            ]
          },
          "metadata": {
            "tags": []
          },
          "execution_count": 32
        }
      ]
    },
    {
      "cell_type": "code",
      "metadata": {
        "scrolled": true,
        "colab": {
          "base_uri": "https://localhost:8080/",
          "height": 287
        },
        "id": "tdHCw38bezbf",
        "outputId": "308df89f-f87f-4f22-bcb6-19a79d684045"
      },
      "source": [
        "df_8th.iloc[:,:-1].describe()"
      ],
      "execution_count": null,
      "outputs": [
        {
          "output_type": "execute_result",
          "data": {
            "text/html": [
              "<div>\n",
              "<style scoped>\n",
              "    .dataframe tbody tr th:only-of-type {\n",
              "        vertical-align: middle;\n",
              "    }\n",
              "\n",
              "    .dataframe tbody tr th {\n",
              "        vertical-align: top;\n",
              "    }\n",
              "\n",
              "    .dataframe thead th {\n",
              "        text-align: right;\n",
              "    }\n",
              "</style>\n",
              "<table border=\"1\" class=\"dataframe\">\n",
              "  <thead>\n",
              "    <tr style=\"text-align: right;\">\n",
              "      <th></th>\n",
              "      <th>I_no</th>\n",
              "      <th>S1</th>\n",
              "      <th>S2</th>\n",
              "      <th>S3</th>\n",
              "      <th>S4</th>\n",
              "      <th>S5</th>\n",
              "      <th>S6</th>\n",
              "      <th>S7</th>\n",
              "    </tr>\n",
              "  </thead>\n",
              "  <tbody>\n",
              "    <tr>\n",
              "      <th>count</th>\n",
              "      <td>183.000000</td>\n",
              "      <td>183.000000</td>\n",
              "      <td>183.000000</td>\n",
              "      <td>183.000000</td>\n",
              "      <td>183.000000</td>\n",
              "      <td>183.000000</td>\n",
              "      <td>183.000000</td>\n",
              "      <td>183.000000</td>\n",
              "    </tr>\n",
              "    <tr>\n",
              "      <th>mean</th>\n",
              "      <td>805.120219</td>\n",
              "      <td>3.069126</td>\n",
              "      <td>3.062350</td>\n",
              "      <td>3.055628</td>\n",
              "      <td>2.980546</td>\n",
              "      <td>3.020055</td>\n",
              "      <td>3.002896</td>\n",
              "      <td>2.956940</td>\n",
              "    </tr>\n",
              "    <tr>\n",
              "      <th>std</th>\n",
              "      <td>159.980963</td>\n",
              "      <td>0.228688</td>\n",
              "      <td>0.285327</td>\n",
              "      <td>0.343550</td>\n",
              "      <td>0.358992</td>\n",
              "      <td>0.395707</td>\n",
              "      <td>0.457744</td>\n",
              "      <td>0.504527</td>\n",
              "    </tr>\n",
              "    <tr>\n",
              "      <th>min</th>\n",
              "      <td>0.000000</td>\n",
              "      <td>2.140000</td>\n",
              "      <td>1.890000</td>\n",
              "      <td>1.440000</td>\n",
              "      <td>0.670000</td>\n",
              "      <td>0.000000</td>\n",
              "      <td>0.000000</td>\n",
              "      <td>0.000000</td>\n",
              "    </tr>\n",
              "    <tr>\n",
              "      <th>25%</th>\n",
              "      <td>817.500000</td>\n",
              "      <td>2.930000</td>\n",
              "      <td>2.910000</td>\n",
              "      <td>2.870000</td>\n",
              "      <td>2.790000</td>\n",
              "      <td>2.800000</td>\n",
              "      <td>2.820000</td>\n",
              "      <td>2.810000</td>\n",
              "    </tr>\n",
              "    <tr>\n",
              "      <th>50%</th>\n",
              "      <td>844.000000</td>\n",
              "      <td>3.100000</td>\n",
              "      <td>3.080000</td>\n",
              "      <td>3.040000</td>\n",
              "      <td>2.990000</td>\n",
              "      <td>3.050000</td>\n",
              "      <td>3.010000</td>\n",
              "      <td>3.020000</td>\n",
              "    </tr>\n",
              "    <tr>\n",
              "      <th>75%</th>\n",
              "      <td>874.500000</td>\n",
              "      <td>3.230000</td>\n",
              "      <td>3.230000</td>\n",
              "      <td>3.260000</td>\n",
              "      <td>3.200000</td>\n",
              "      <td>3.245000</td>\n",
              "      <td>3.270000</td>\n",
              "      <td>3.210000</td>\n",
              "    </tr>\n",
              "    <tr>\n",
              "      <th>max</th>\n",
              "      <td>936.000000</td>\n",
              "      <td>3.590000</td>\n",
              "      <td>3.740000</td>\n",
              "      <td>3.870000</td>\n",
              "      <td>3.860000</td>\n",
              "      <td>3.820000</td>\n",
              "      <td>3.830000</td>\n",
              "      <td>3.820000</td>\n",
              "    </tr>\n",
              "  </tbody>\n",
              "</table>\n",
              "</div>"
            ],
            "text/plain": [
              "             I_no          S1          S2  ...          S5          S6          S7\n",
              "count  183.000000  183.000000  183.000000  ...  183.000000  183.000000  183.000000\n",
              "mean   805.120219    3.069126    3.062350  ...    3.020055    3.002896    2.956940\n",
              "std    159.980963    0.228688    0.285327  ...    0.395707    0.457744    0.504527\n",
              "min      0.000000    2.140000    1.890000  ...    0.000000    0.000000    0.000000\n",
              "25%    817.500000    2.930000    2.910000  ...    2.800000    2.820000    2.810000\n",
              "50%    844.000000    3.100000    3.080000  ...    3.050000    3.010000    3.020000\n",
              "75%    874.500000    3.230000    3.230000  ...    3.245000    3.270000    3.210000\n",
              "max    936.000000    3.590000    3.740000  ...    3.820000    3.830000    3.820000\n",
              "\n",
              "[8 rows x 8 columns]"
            ]
          },
          "metadata": {
            "tags": []
          },
          "execution_count": 33
        }
      ]
    },
    {
      "cell_type": "code",
      "metadata": {
        "colab": {
          "base_uri": "https://localhost:8080/",
          "height": 287
        },
        "id": "Jmf8ULe8ezbf",
        "outputId": "3fd9b2ff-f93f-4515-d951-94c77bd0b57a"
      },
      "source": [
        "df_8th.iloc[:,:-1].corr()"
      ],
      "execution_count": null,
      "outputs": [
        {
          "output_type": "execute_result",
          "data": {
            "text/html": [
              "<div>\n",
              "<style scoped>\n",
              "    .dataframe tbody tr th:only-of-type {\n",
              "        vertical-align: middle;\n",
              "    }\n",
              "\n",
              "    .dataframe tbody tr th {\n",
              "        vertical-align: top;\n",
              "    }\n",
              "\n",
              "    .dataframe thead th {\n",
              "        text-align: right;\n",
              "    }\n",
              "</style>\n",
              "<table border=\"1\" class=\"dataframe\">\n",
              "  <thead>\n",
              "    <tr style=\"text-align: right;\">\n",
              "      <th></th>\n",
              "      <th>I_no</th>\n",
              "      <th>S1</th>\n",
              "      <th>S2</th>\n",
              "      <th>S3</th>\n",
              "      <th>S4</th>\n",
              "      <th>S5</th>\n",
              "      <th>S6</th>\n",
              "      <th>S7</th>\n",
              "    </tr>\n",
              "  </thead>\n",
              "  <tbody>\n",
              "    <tr>\n",
              "      <th>I_no</th>\n",
              "      <td>1.000000</td>\n",
              "      <td>0.081146</td>\n",
              "      <td>0.046536</td>\n",
              "      <td>0.077233</td>\n",
              "      <td>0.101400</td>\n",
              "      <td>0.036989</td>\n",
              "      <td>0.016815</td>\n",
              "      <td>0.002412</td>\n",
              "    </tr>\n",
              "    <tr>\n",
              "      <th>S1</th>\n",
              "      <td>0.081146</td>\n",
              "      <td>1.000000</td>\n",
              "      <td>0.302365</td>\n",
              "      <td>0.367928</td>\n",
              "      <td>0.328496</td>\n",
              "      <td>0.349100</td>\n",
              "      <td>0.304877</td>\n",
              "      <td>0.253960</td>\n",
              "    </tr>\n",
              "    <tr>\n",
              "      <th>S2</th>\n",
              "      <td>0.046536</td>\n",
              "      <td>0.302365</td>\n",
              "      <td>1.000000</td>\n",
              "      <td>0.724270</td>\n",
              "      <td>0.647746</td>\n",
              "      <td>0.642876</td>\n",
              "      <td>0.540834</td>\n",
              "      <td>0.460572</td>\n",
              "    </tr>\n",
              "    <tr>\n",
              "      <th>S3</th>\n",
              "      <td>0.077233</td>\n",
              "      <td>0.367928</td>\n",
              "      <td>0.724270</td>\n",
              "      <td>1.000000</td>\n",
              "      <td>0.748584</td>\n",
              "      <td>0.662057</td>\n",
              "      <td>0.646376</td>\n",
              "      <td>0.521311</td>\n",
              "    </tr>\n",
              "    <tr>\n",
              "      <th>S4</th>\n",
              "      <td>0.101400</td>\n",
              "      <td>0.328496</td>\n",
              "      <td>0.647746</td>\n",
              "      <td>0.748584</td>\n",
              "      <td>1.000000</td>\n",
              "      <td>0.744178</td>\n",
              "      <td>0.776215</td>\n",
              "      <td>0.722043</td>\n",
              "    </tr>\n",
              "    <tr>\n",
              "      <th>S5</th>\n",
              "      <td>0.036989</td>\n",
              "      <td>0.349100</td>\n",
              "      <td>0.642876</td>\n",
              "      <td>0.662057</td>\n",
              "      <td>0.744178</td>\n",
              "      <td>1.000000</td>\n",
              "      <td>0.765873</td>\n",
              "      <td>0.636469</td>\n",
              "    </tr>\n",
              "    <tr>\n",
              "      <th>S6</th>\n",
              "      <td>0.016815</td>\n",
              "      <td>0.304877</td>\n",
              "      <td>0.540834</td>\n",
              "      <td>0.646376</td>\n",
              "      <td>0.776215</td>\n",
              "      <td>0.765873</td>\n",
              "      <td>1.000000</td>\n",
              "      <td>0.778574</td>\n",
              "    </tr>\n",
              "    <tr>\n",
              "      <th>S7</th>\n",
              "      <td>0.002412</td>\n",
              "      <td>0.253960</td>\n",
              "      <td>0.460572</td>\n",
              "      <td>0.521311</td>\n",
              "      <td>0.722043</td>\n",
              "      <td>0.636469</td>\n",
              "      <td>0.778574</td>\n",
              "      <td>1.000000</td>\n",
              "    </tr>\n",
              "  </tbody>\n",
              "</table>\n",
              "</div>"
            ],
            "text/plain": [
              "          I_no        S1        S2  ...        S5        S6        S7\n",
              "I_no  1.000000  0.081146  0.046536  ...  0.036989  0.016815  0.002412\n",
              "S1    0.081146  1.000000  0.302365  ...  0.349100  0.304877  0.253960\n",
              "S2    0.046536  0.302365  1.000000  ...  0.642876  0.540834  0.460572\n",
              "S3    0.077233  0.367928  0.724270  ...  0.662057  0.646376  0.521311\n",
              "S4    0.101400  0.328496  0.647746  ...  0.744178  0.776215  0.722043\n",
              "S5    0.036989  0.349100  0.642876  ...  1.000000  0.765873  0.636469\n",
              "S6    0.016815  0.304877  0.540834  ...  0.765873  1.000000  0.778574\n",
              "S7    0.002412  0.253960  0.460572  ...  0.636469  0.778574  1.000000\n",
              "\n",
              "[8 rows x 8 columns]"
            ]
          },
          "metadata": {
            "tags": []
          },
          "execution_count": 34
        }
      ]
    },
    {
      "cell_type": "code",
      "metadata": {
        "colab": {
          "base_uri": "https://localhost:8080/"
        },
        "id": "ZYxoL4bnezbf",
        "outputId": "97886616-82a0-41ed-e090-b4fb472c5123"
      },
      "source": [
        "df_7th.shape"
      ],
      "execution_count": null,
      "outputs": [
        {
          "output_type": "execute_result",
          "data": {
            "text/plain": [
              "(183, 8)"
            ]
          },
          "metadata": {
            "tags": []
          },
          "execution_count": 35
        }
      ]
    },
    {
      "cell_type": "markdown",
      "metadata": {
        "id": "U5uv0X5pezbf"
      },
      "source": [
        "# ------------------------------------------"
      ]
    },
    {
      "cell_type": "markdown",
      "metadata": {
        "id": "xwsZHFRDezbf"
      },
      "source": [
        "# MileStone 2\n",
        "### applying ML algorithms"
      ]
    },
    {
      "cell_type": "code",
      "metadata": {
        "id": "VAzDycG_ezbf"
      },
      "source": [
        "import keras"
      ],
      "execution_count": null,
      "outputs": []
    },
    {
      "cell_type": "code",
      "metadata": {
        "id": "M_aKTp6Tezbf"
      },
      "source": [
        "from keras.models import Sequential\n",
        "from keras.layers import Dense\n",
        "from keras.optimizers import Adam,RMSprop\n",
        "from keras import initializers\n",
        "from sklearn.model_selection import train_test_split"
      ],
      "execution_count": null,
      "outputs": []
    },
    {
      "cell_type": "code",
      "metadata": {
        "id": "JdhZmGH6ezbf"
      },
      "source": [
        "X = df_7th.iloc[:,:-1]\n",
        "Y = df_7th.iloc[:,-1]\n",
        "xtrain,xtest,ytrain,ytest = train_test_split(X,Y,test_size = 0.10,random_state = 54)"
      ],
      "execution_count": null,
      "outputs": []
    },
    {
      "cell_type": "code",
      "metadata": {
        "colab": {
          "base_uri": "https://localhost:8080/"
        },
        "id": "__5LXqWNezbf",
        "outputId": "0c0061cc-e20b-4e84-c24c-490b2a8030d1"
      },
      "source": [
        "len(xtrain),len(xtest)"
      ],
      "execution_count": null,
      "outputs": [
        {
          "output_type": "execute_result",
          "data": {
            "text/plain": [
              "(164, 19)"
            ]
          },
          "metadata": {
            "tags": []
          },
          "execution_count": 39
        }
      ]
    },
    {
      "cell_type": "code",
      "metadata": {
        "id": "rLYz5BAtezbf"
      },
      "source": [
        "def Model():\n",
        "    model = Sequential()\n",
        "    model.add(Dense(16,activation = 'relu',\n",
        "                    kernel_initializer= initializers.RandomNormal(stddev = 0.1),\n",
        "                    bias_initializer = initializers.zeros()\n",
        "                    ,input_shape = (7,)))\n",
        "    model.add(Dense(8,activation = 'relu'))\n",
        "    model.add(Dense(1,activation = 'linear'))\n",
        "    model.compile(optimizer=Adam(),loss = 'mae',metrics = ['mse'])\n",
        "    return model"
      ],
      "execution_count": null,
      "outputs": []
    },
    {
      "cell_type": "code",
      "metadata": {
        "colab": {
          "base_uri": "https://localhost:8080/"
        },
        "id": "1VcCqBK2ezbf",
        "outputId": "d7c1a700-0e0d-4799-f99d-c7ebf32f9c3a"
      },
      "source": [
        "model = Model()\n",
        "model.fit(xtrain,ytrain,epochs = 100,batch_size = 10,validation_data = (xtest,ytest))"
      ],
      "execution_count": null,
      "outputs": [
        {
          "output_type": "stream",
          "text": [
            "Epoch 1/100\n",
            "17/17 [==============================] - 0s 10ms/step - loss: 38.0862 - mse: 1602.4126 - val_loss: 20.9561 - val_mse: 441.9917\n",
            "Epoch 2/100\n",
            "17/17 [==============================] - 0s 2ms/step - loss: 8.3113 - mse: 111.0271 - val_loss: 5.3772 - val_mse: 29.1359\n",
            "Epoch 3/100\n",
            "17/17 [==============================] - 0s 2ms/step - loss: 2.6545 - mse: 9.3678 - val_loss: 0.3639 - val_mse: 0.2170\n",
            "Epoch 4/100\n",
            "17/17 [==============================] - 0s 2ms/step - loss: 0.9845 - mse: 1.5225 - val_loss: 1.2431 - val_mse: 1.6842\n",
            "Epoch 5/100\n",
            "17/17 [==============================] - 0s 2ms/step - loss: 0.9730 - mse: 1.4959 - val_loss: 0.3497 - val_mse: 0.1822\n",
            "Epoch 6/100\n",
            "17/17 [==============================] - 0s 2ms/step - loss: 0.7873 - mse: 1.1801 - val_loss: 0.4648 - val_mse: 0.3461\n",
            "Epoch 7/100\n",
            "17/17 [==============================] - 0s 2ms/step - loss: 0.8089 - mse: 1.2517 - val_loss: 0.4724 - val_mse: 0.2897\n",
            "Epoch 8/100\n",
            "17/17 [==============================] - 0s 2ms/step - loss: 0.5468 - mse: 0.8872 - val_loss: 0.4684 - val_mse: 0.2852\n",
            "Epoch 9/100\n",
            "17/17 [==============================] - 0s 2ms/step - loss: 0.5526 - mse: 0.8439 - val_loss: 0.4124 - val_mse: 0.2293\n",
            "Epoch 10/100\n",
            "17/17 [==============================] - 0s 2ms/step - loss: 0.5216 - mse: 0.8320 - val_loss: 0.4462 - val_mse: 0.2605\n",
            "Epoch 11/100\n",
            "17/17 [==============================] - 0s 2ms/step - loss: 0.5501 - mse: 0.8670 - val_loss: 0.3953 - val_mse: 0.2132\n",
            "Epoch 12/100\n",
            "17/17 [==============================] - 0s 2ms/step - loss: 0.6171 - mse: 0.9368 - val_loss: 0.5886 - val_mse: 0.4225\n",
            "Epoch 13/100\n",
            "17/17 [==============================] - 0s 2ms/step - loss: 0.7562 - mse: 1.1036 - val_loss: 0.6984 - val_mse: 0.6356\n",
            "Epoch 14/100\n",
            "17/17 [==============================] - 0s 3ms/step - loss: 0.6909 - mse: 0.9965 - val_loss: 0.3565 - val_mse: 0.2079\n",
            "Epoch 15/100\n",
            "17/17 [==============================] - 0s 2ms/step - loss: 0.5676 - mse: 0.8455 - val_loss: 0.2839 - val_mse: 0.1312\n",
            "Epoch 16/100\n",
            "17/17 [==============================] - 0s 2ms/step - loss: 0.4974 - mse: 0.7370 - val_loss: 0.3260 - val_mse: 0.1707\n",
            "Epoch 17/100\n",
            "17/17 [==============================] - 0s 2ms/step - loss: 0.5198 - mse: 0.7255 - val_loss: 0.3586 - val_mse: 0.1808\n",
            "Epoch 18/100\n",
            "17/17 [==============================] - 0s 2ms/step - loss: 0.5097 - mse: 0.7158 - val_loss: 0.2968 - val_mse: 0.1356\n",
            "Epoch 19/100\n",
            "17/17 [==============================] - 0s 2ms/step - loss: 0.5835 - mse: 0.8178 - val_loss: 0.3262 - val_mse: 0.1583\n",
            "Epoch 20/100\n",
            "17/17 [==============================] - 0s 2ms/step - loss: 0.5520 - mse: 0.7730 - val_loss: 0.4015 - val_mse: 0.2574\n",
            "Epoch 21/100\n",
            "17/17 [==============================] - 0s 2ms/step - loss: 0.5389 - mse: 0.7613 - val_loss: 0.4562 - val_mse: 0.3186\n",
            "Epoch 22/100\n",
            "17/17 [==============================] - 0s 2ms/step - loss: 0.5469 - mse: 0.7300 - val_loss: 0.4166 - val_mse: 0.2754\n",
            "Epoch 23/100\n",
            "17/17 [==============================] - 0s 2ms/step - loss: 0.5186 - mse: 0.6717 - val_loss: 0.4160 - val_mse: 0.2741\n",
            "Epoch 24/100\n",
            "17/17 [==============================] - 0s 2ms/step - loss: 0.4684 - mse: 0.6610 - val_loss: 0.4454 - val_mse: 0.2523\n",
            "Epoch 25/100\n",
            "17/17 [==============================] - 0s 2ms/step - loss: 0.5969 - mse: 0.7389 - val_loss: 0.7721 - val_mse: 0.7009\n",
            "Epoch 26/100\n",
            "17/17 [==============================] - 0s 2ms/step - loss: 0.6962 - mse: 0.8641 - val_loss: 0.3875 - val_mse: 0.1971\n",
            "Epoch 27/100\n",
            "17/17 [==============================] - 0s 2ms/step - loss: 0.5110 - mse: 0.6726 - val_loss: 0.3036 - val_mse: 0.1388\n",
            "Epoch 28/100\n",
            "17/17 [==============================] - 0s 2ms/step - loss: 0.4956 - mse: 0.6128 - val_loss: 0.2874 - val_mse: 0.1286\n",
            "Epoch 29/100\n",
            "17/17 [==============================] - 0s 2ms/step - loss: 0.5071 - mse: 0.6069 - val_loss: 0.5120 - val_mse: 0.3214\n",
            "Epoch 30/100\n",
            "17/17 [==============================] - 0s 2ms/step - loss: 0.5425 - mse: 0.6712 - val_loss: 0.3397 - val_mse: 0.1862\n",
            "Epoch 31/100\n",
            "17/17 [==============================] - 0s 2ms/step - loss: 0.6295 - mse: 0.7500 - val_loss: 0.5634 - val_mse: 0.3867\n",
            "Epoch 32/100\n",
            "17/17 [==============================] - 0s 2ms/step - loss: 0.4874 - mse: 0.5277 - val_loss: 0.2764 - val_mse: 0.1211\n",
            "Epoch 33/100\n",
            "17/17 [==============================] - 0s 2ms/step - loss: 0.5885 - mse: 0.6202 - val_loss: 0.3378 - val_mse: 0.1541\n",
            "Epoch 34/100\n",
            "17/17 [==============================] - 0s 2ms/step - loss: 0.4949 - mse: 0.5503 - val_loss: 0.2568 - val_mse: 0.1047\n",
            "Epoch 35/100\n",
            "17/17 [==============================] - 0s 2ms/step - loss: 0.4478 - mse: 0.4734 - val_loss: 0.2650 - val_mse: 0.1105\n",
            "Epoch 36/100\n",
            "17/17 [==============================] - 0s 2ms/step - loss: 0.4409 - mse: 0.4551 - val_loss: 0.5030 - val_mse: 0.3100\n",
            "Epoch 37/100\n",
            "17/17 [==============================] - 0s 2ms/step - loss: 0.4800 - mse: 0.4663 - val_loss: 0.2661 - val_mse: 0.1121\n",
            "Epoch 38/100\n",
            "17/17 [==============================] - 0s 2ms/step - loss: 0.4012 - mse: 0.4032 - val_loss: 0.4072 - val_mse: 0.2480\n",
            "Epoch 39/100\n",
            "17/17 [==============================] - 0s 2ms/step - loss: 0.5342 - mse: 0.5059 - val_loss: 0.2999 - val_mse: 0.1445\n",
            "Epoch 40/100\n",
            "17/17 [==============================] - 0s 2ms/step - loss: 0.5574 - mse: 0.5306 - val_loss: 0.6304 - val_mse: 0.4938\n",
            "Epoch 41/100\n",
            "17/17 [==============================] - 0s 2ms/step - loss: 0.5738 - mse: 0.5380 - val_loss: 0.6534 - val_mse: 0.5223\n",
            "Epoch 42/100\n",
            "17/17 [==============================] - 0s 2ms/step - loss: 0.4697 - mse: 0.4080 - val_loss: 0.2709 - val_mse: 0.1082\n",
            "Epoch 43/100\n",
            "17/17 [==============================] - 0s 2ms/step - loss: 0.3357 - mse: 0.3039 - val_loss: 0.2249 - val_mse: 0.0814\n",
            "Epoch 44/100\n",
            "17/17 [==============================] - 0s 2ms/step - loss: 0.3377 - mse: 0.2944 - val_loss: 0.2279 - val_mse: 0.0842\n",
            "Epoch 45/100\n",
            "17/17 [==============================] - 0s 2ms/step - loss: 0.3723 - mse: 0.3150 - val_loss: 0.2204 - val_mse: 0.0793\n",
            "Epoch 46/100\n",
            "17/17 [==============================] - 0s 2ms/step - loss: 0.3518 - mse: 0.2954 - val_loss: 0.2255 - val_mse: 0.0804\n",
            "Epoch 47/100\n",
            "17/17 [==============================] - 0s 2ms/step - loss: 0.4907 - mse: 0.4429 - val_loss: 0.2149 - val_mse: 0.0758\n",
            "Epoch 48/100\n",
            "17/17 [==============================] - 0s 2ms/step - loss: 0.4924 - mse: 0.4213 - val_loss: 0.2551 - val_mse: 0.1021\n",
            "Epoch 49/100\n",
            "17/17 [==============================] - 0s 2ms/step - loss: 0.4669 - mse: 0.4086 - val_loss: 0.2182 - val_mse: 0.0773\n",
            "Epoch 50/100\n",
            "17/17 [==============================] - 0s 2ms/step - loss: 0.3490 - mse: 0.2788 - val_loss: 0.3162 - val_mse: 0.1314\n",
            "Epoch 51/100\n",
            "17/17 [==============================] - 0s 2ms/step - loss: 0.3169 - mse: 0.2748 - val_loss: 0.2158 - val_mse: 0.0757\n",
            "Epoch 52/100\n",
            "17/17 [==============================] - 0s 2ms/step - loss: 0.4040 - mse: 0.3351 - val_loss: 0.4236 - val_mse: 0.2234\n",
            "Epoch 53/100\n",
            "17/17 [==============================] - 0s 2ms/step - loss: 0.4585 - mse: 0.4159 - val_loss: 0.7501 - val_mse: 0.6265\n",
            "Epoch 54/100\n",
            "17/17 [==============================] - 0s 2ms/step - loss: 0.4768 - mse: 0.4410 - val_loss: 0.2815 - val_mse: 0.1080\n",
            "Epoch 55/100\n",
            "17/17 [==============================] - 0s 2ms/step - loss: 0.3100 - mse: 0.2532 - val_loss: 0.2094 - val_mse: 0.0715\n",
            "Epoch 56/100\n",
            "17/17 [==============================] - 0s 2ms/step - loss: 0.3716 - mse: 0.3048 - val_loss: 0.4744 - val_mse: 0.2974\n",
            "Epoch 57/100\n",
            "17/17 [==============================] - 0s 2ms/step - loss: 0.5920 - mse: 0.4959 - val_loss: 0.6067 - val_mse: 0.4295\n",
            "Epoch 58/100\n",
            "17/17 [==============================] - 0s 2ms/step - loss: 0.5887 - mse: 0.5412 - val_loss: 0.4960 - val_mse: 0.3030\n",
            "Epoch 59/100\n",
            "17/17 [==============================] - 0s 2ms/step - loss: 0.4266 - mse: 0.3729 - val_loss: 0.2726 - val_mse: 0.1018\n",
            "Epoch 60/100\n",
            "17/17 [==============================] - 0s 2ms/step - loss: 0.4466 - mse: 0.3607 - val_loss: 0.2205 - val_mse: 0.0718\n",
            "Epoch 61/100\n",
            "17/17 [==============================] - 0s 2ms/step - loss: 0.4231 - mse: 0.3240 - val_loss: 0.2912 - val_mse: 0.1338\n",
            "Epoch 62/100\n",
            "17/17 [==============================] - 0s 2ms/step - loss: 0.2964 - mse: 0.2347 - val_loss: 0.2084 - val_mse: 0.0701\n",
            "Epoch 63/100\n",
            "17/17 [==============================] - 0s 2ms/step - loss: 0.3154 - mse: 0.2378 - val_loss: 0.3009 - val_mse: 0.1193\n",
            "Epoch 64/100\n",
            "17/17 [==============================] - 0s 2ms/step - loss: 0.3815 - mse: 0.3085 - val_loss: 0.3025 - val_mse: 0.1415\n",
            "Epoch 65/100\n",
            "17/17 [==============================] - 0s 2ms/step - loss: 0.4123 - mse: 0.3184 - val_loss: 0.3006 - val_mse: 0.1190\n",
            "Epoch 66/100\n",
            "17/17 [==============================] - 0s 2ms/step - loss: 0.3998 - mse: 0.2949 - val_loss: 0.3814 - val_mse: 0.1842\n",
            "Epoch 67/100\n",
            "17/17 [==============================] - 0s 2ms/step - loss: 0.3560 - mse: 0.2826 - val_loss: 0.3847 - val_mse: 0.2051\n",
            "Epoch 68/100\n",
            "17/17 [==============================] - 0s 2ms/step - loss: 0.3405 - mse: 0.2667 - val_loss: 0.2678 - val_mse: 0.1141\n",
            "Epoch 69/100\n",
            "17/17 [==============================] - 0s 2ms/step - loss: 0.3293 - mse: 0.2319 - val_loss: 0.2387 - val_mse: 0.0915\n",
            "Epoch 70/100\n",
            "17/17 [==============================] - 0s 2ms/step - loss: 0.3512 - mse: 0.2752 - val_loss: 0.2226 - val_mse: 0.0784\n",
            "Epoch 71/100\n",
            "17/17 [==============================] - 0s 3ms/step - loss: 0.2959 - mse: 0.2139 - val_loss: 0.2036 - val_mse: 0.0603\n",
            "Epoch 72/100\n",
            "17/17 [==============================] - 0s 2ms/step - loss: 0.2964 - mse: 0.2256 - val_loss: 0.1836 - val_mse: 0.0560\n",
            "Epoch 73/100\n",
            "17/17 [==============================] - 0s 3ms/step - loss: 0.3411 - mse: 0.2571 - val_loss: 0.1984 - val_mse: 0.0631\n",
            "Epoch 74/100\n",
            "17/17 [==============================] - 0s 2ms/step - loss: 0.2939 - mse: 0.2117 - val_loss: 0.2073 - val_mse: 0.0606\n",
            "Epoch 75/100\n",
            "17/17 [==============================] - 0s 2ms/step - loss: 0.3326 - mse: 0.2627 - val_loss: 0.2149 - val_mse: 0.0734\n",
            "Epoch 76/100\n",
            "17/17 [==============================] - 0s 2ms/step - loss: 0.3188 - mse: 0.2308 - val_loss: 0.2786 - val_mse: 0.1039\n",
            "Epoch 77/100\n",
            "17/17 [==============================] - 0s 2ms/step - loss: 0.2825 - mse: 0.1909 - val_loss: 0.3456 - val_mse: 0.1688\n",
            "Epoch 78/100\n",
            "17/17 [==============================] - 0s 2ms/step - loss: 0.3484 - mse: 0.2701 - val_loss: 0.2887 - val_mse: 0.1110\n",
            "Epoch 79/100\n",
            "17/17 [==============================] - 0s 2ms/step - loss: 0.2824 - mse: 0.1976 - val_loss: 0.2036 - val_mse: 0.0575\n",
            "Epoch 80/100\n",
            "17/17 [==============================] - 0s 2ms/step - loss: 0.3088 - mse: 0.2132 - val_loss: 0.2042 - val_mse: 0.0668\n",
            "Epoch 81/100\n",
            "17/17 [==============================] - 0s 2ms/step - loss: 0.2881 - mse: 0.1993 - val_loss: 0.2542 - val_mse: 0.1023\n",
            "Epoch 82/100\n",
            "17/17 [==============================] - 0s 2ms/step - loss: 0.2931 - mse: 0.2232 - val_loss: 0.1726 - val_mse: 0.0499\n",
            "Epoch 83/100\n",
            "17/17 [==============================] - 0s 2ms/step - loss: 0.2691 - mse: 0.1940 - val_loss: 0.1892 - val_mse: 0.0577\n",
            "Epoch 84/100\n",
            "17/17 [==============================] - 0s 2ms/step - loss: 0.3165 - mse: 0.2137 - val_loss: 0.2575 - val_mse: 0.0889\n",
            "Epoch 85/100\n",
            "17/17 [==============================] - 0s 2ms/step - loss: 0.3587 - mse: 0.2523 - val_loss: 0.2344 - val_mse: 0.0893\n",
            "Epoch 86/100\n",
            "17/17 [==============================] - 0s 2ms/step - loss: 0.3725 - mse: 0.2714 - val_loss: 0.4187 - val_mse: 0.2281\n",
            "Epoch 87/100\n",
            "17/17 [==============================] - 0s 2ms/step - loss: 0.3364 - mse: 0.2633 - val_loss: 0.2133 - val_mse: 0.0614\n",
            "Epoch 88/100\n",
            "17/17 [==============================] - 0s 2ms/step - loss: 0.2709 - mse: 0.1866 - val_loss: 0.2634 - val_mse: 0.0932\n",
            "Epoch 89/100\n",
            "17/17 [==============================] - 0s 2ms/step - loss: 0.2707 - mse: 0.1826 - val_loss: 0.1976 - val_mse: 0.0637\n",
            "Epoch 90/100\n",
            "17/17 [==============================] - 0s 2ms/step - loss: 0.2923 - mse: 0.1917 - val_loss: 0.1875 - val_mse: 0.0487\n",
            "Epoch 91/100\n",
            "17/17 [==============================] - 0s 2ms/step - loss: 0.2701 - mse: 0.1890 - val_loss: 0.2242 - val_mse: 0.0673\n",
            "Epoch 92/100\n",
            "17/17 [==============================] - 0s 2ms/step - loss: 0.3315 - mse: 0.2378 - val_loss: 0.2075 - val_mse: 0.0718\n",
            "Epoch 93/100\n",
            "17/17 [==============================] - 0s 2ms/step - loss: 0.2619 - mse: 0.1892 - val_loss: 0.1671 - val_mse: 0.0447\n",
            "Epoch 94/100\n",
            "17/17 [==============================] - 0s 2ms/step - loss: 0.2992 - mse: 0.2122 - val_loss: 0.2802 - val_mse: 0.1072\n",
            "Epoch 95/100\n",
            "17/17 [==============================] - 0s 2ms/step - loss: 0.2973 - mse: 0.2112 - val_loss: 0.2292 - val_mse: 0.0849\n",
            "Epoch 96/100\n",
            "17/17 [==============================] - 0s 2ms/step - loss: 0.2721 - mse: 0.1815 - val_loss: 0.1773 - val_mse: 0.0513\n",
            "Epoch 97/100\n",
            "17/17 [==============================] - 0s 2ms/step - loss: 0.3262 - mse: 0.2257 - val_loss: 0.3182 - val_mse: 0.1344\n",
            "Epoch 98/100\n",
            "17/17 [==============================] - 0s 2ms/step - loss: 0.3125 - mse: 0.2167 - val_loss: 0.1664 - val_mse: 0.0432\n",
            "Epoch 99/100\n",
            "17/17 [==============================] - 0s 2ms/step - loss: 0.3227 - mse: 0.2037 - val_loss: 0.2054 - val_mse: 0.0714\n",
            "Epoch 100/100\n",
            "17/17 [==============================] - 0s 2ms/step - loss: 0.3596 - mse: 0.2658 - val_loss: 0.2703 - val_mse: 0.0992\n"
          ],
          "name": "stdout"
        },
        {
          "output_type": "execute_result",
          "data": {
            "text/plain": [
              "<tensorflow.python.keras.callbacks.History at 0x7f880c956048>"
            ]
          },
          "metadata": {
            "tags": []
          },
          "execution_count": 41
        }
      ]
    },
    {
      "cell_type": "code",
      "metadata": {
        "colab": {
          "base_uri": "https://localhost:8080/"
        },
        "id": "vjaBKM3iezbg",
        "outputId": "25b795a1-0a97-4931-cca2-ff64fa5439ac"
      },
      "source": [
        "model.evaluate(xtest,ytest)"
      ],
      "execution_count": null,
      "outputs": [
        {
          "output_type": "stream",
          "text": [
            "1/1 [==============================] - 0s 2ms/step - loss: 0.2703 - mse: 0.0992\n"
          ],
          "name": "stdout"
        },
        {
          "output_type": "execute_result",
          "data": {
            "text/plain": [
              "[0.27029168605804443, 0.09923022985458374]"
            ]
          },
          "metadata": {
            "tags": []
          },
          "execution_count": 42
        }
      ]
    },
    {
      "cell_type": "markdown",
      "metadata": {
        "id": "oFB8k2J5ezbg"
      },
      "source": [
        "### Now applying K-NN Regressor"
      ]
    },
    {
      "cell_type": "code",
      "metadata": {
        "id": "qNNTjNM9ezbg"
      },
      "source": [
        "from sklearn.neighbors import KNeighborsRegressor\n",
        "from sklearn.metrics import mean_squared_error"
      ],
      "execution_count": null,
      "outputs": []
    },
    {
      "cell_type": "code",
      "metadata": {
        "id": "5Bf4NBSVezbg"
      },
      "source": [
        "knn = KNeighborsRegressor(n_neighbors=6)"
      ],
      "execution_count": null,
      "outputs": []
    },
    {
      "cell_type": "code",
      "metadata": {
        "colab": {
          "base_uri": "https://localhost:8080/"
        },
        "id": "LnsTHPyvezbg",
        "outputId": "761fed9c-3744-4447-cf6c-60fd8b7a2997"
      },
      "source": [
        "knn.fit(xtrain,ytrain)"
      ],
      "execution_count": null,
      "outputs": [
        {
          "output_type": "execute_result",
          "data": {
            "text/plain": [
              "KNeighborsRegressor(algorithm='auto', leaf_size=30, metric='minkowski',\n",
              "                    metric_params=None, n_jobs=None, n_neighbors=6, p=2,\n",
              "                    weights='uniform')"
            ]
          },
          "metadata": {
            "tags": []
          },
          "execution_count": 45
        }
      ]
    },
    {
      "cell_type": "code",
      "metadata": {
        "colab": {
          "base_uri": "https://localhost:8080/"
        },
        "id": "rTnJRdYOezbg",
        "outputId": "6411bb74-ce70-44bc-963e-e5ca08a88d10"
      },
      "source": [
        "pred = knn.predict(xtest)\n",
        "pred"
      ],
      "execution_count": null,
      "outputs": [
        {
          "output_type": "execute_result",
          "data": {
            "text/plain": [
              "array([2.95333333, 2.89666667, 3.09333333, 3.09333333, 2.64333333,\n",
              "       3.03      , 2.89      , 2.92333333, 3.17      , 2.96      ,\n",
              "       3.21333333, 2.72666667, 2.72666667, 2.92333333, 3.15666667,\n",
              "       3.04      , 3.08333333, 2.765     , 3.29333333])"
            ]
          },
          "metadata": {
            "tags": []
          },
          "execution_count": 46
        }
      ]
    },
    {
      "cell_type": "code",
      "metadata": {
        "colab": {
          "base_uri": "https://localhost:8080/"
        },
        "id": "Rg3ya7_tezbg",
        "outputId": "4dc34ba2-d734-4264-d275-6217df58611c"
      },
      "source": [
        "mean_squared_error(ytest,pred)"
      ],
      "execution_count": null,
      "outputs": [
        {
          "output_type": "execute_result",
          "data": {
            "text/plain": [
              "0.09981593567251468"
            ]
          },
          "metadata": {
            "tags": []
          },
          "execution_count": 47
        }
      ]
    },
    {
      "cell_type": "code",
      "metadata": {
        "id": "jj7t8fBhgFla"
      },
      "source": [
        ""
      ],
      "execution_count": null,
      "outputs": []
    },
    {
      "cell_type": "markdown",
      "metadata": {
        "id": "zrOolp5vgKH3"
      },
      "source": [
        "Apply **Decision Tree **\n",
        " "
      ]
    },
    {
      "cell_type": "code",
      "metadata": {
        "id": "Hak0nMBKgM5s"
      },
      "source": [
        "from sklearn.tree import DecisionTreeRegressor"
      ],
      "execution_count": null,
      "outputs": []
    },
    {
      "cell_type": "code",
      "metadata": {
        "id": "RgPcikJ_huyg"
      },
      "source": [
        "tree = DecisionTreeRegressor(criterion='mse', min_samples_split=3, max_depth=None, min_samples_leaf=2, random_state=1)"
      ],
      "execution_count": 71,
      "outputs": []
    },
    {
      "cell_type": "code",
      "metadata": {
        "colab": {
          "base_uri": "https://localhost:8080/"
        },
        "id": "UwflvAvQiTCt",
        "outputId": "a63ff410-3cee-4666-a13f-9de50f9cf96c"
      },
      "source": [
        "tree.fit(xtrain, ytrain)"
      ],
      "execution_count": 72,
      "outputs": [
        {
          "output_type": "execute_result",
          "data": {
            "text/plain": [
              "DecisionTreeRegressor(ccp_alpha=0.0, criterion='mse', max_depth=None,\n",
              "                      max_features=None, max_leaf_nodes=None,\n",
              "                      min_impurity_decrease=0.0, min_impurity_split=None,\n",
              "                      min_samples_leaf=2, min_samples_split=3,\n",
              "                      min_weight_fraction_leaf=0.0, presort='deprecated',\n",
              "                      random_state=1, splitter='best')"
            ]
          },
          "metadata": {
            "tags": []
          },
          "execution_count": 72
        }
      ]
    },
    {
      "cell_type": "code",
      "metadata": {
        "colab": {
          "base_uri": "https://localhost:8080/"
        },
        "id": "hMbUojGnieqA",
        "outputId": "80ff73de-2357-4e54-9b48-b7fc90a9faa9"
      },
      "source": [
        "prediction = tree.predict(xtest)\n",
        "prediction"
      ],
      "execution_count": 73,
      "outputs": [
        {
          "output_type": "execute_result",
          "data": {
            "text/plain": [
              "array([2.74      , 2.16666667, 3.08      , 2.88      , 3.14      ,\n",
              "       3.23333333, 3.37      , 2.68      , 2.96      , 3.08      ,\n",
              "       3.14      , 2.94666667, 0.465     , 3.64      , 3.24666667,\n",
              "       3.29      , 3.2       , 2.74      , 3.08      ])"
            ]
          },
          "metadata": {
            "tags": []
          },
          "execution_count": 73
        }
      ]
    },
    {
      "cell_type": "code",
      "metadata": {
        "colab": {
          "base_uri": "https://localhost:8080/"
        },
        "id": "o9Bxfv3iin_C",
        "outputId": "4e87f46e-4eef-4a5d-e5c9-368d3df9897a"
      },
      "source": [
        "print(\"The prediction accuracy is : \",mean_squared_error(ytest, prediction), \"%\")"
      ],
      "execution_count": 74,
      "outputs": [
        {
          "output_type": "stream",
          "text": [
            "The prediction accuracy is :  0.28915453216374265 %\n"
          ],
          "name": "stdout"
        }
      ]
    },
    {
      "cell_type": "code",
      "metadata": {
        "id": "68DeGsFGng3B"
      },
      "source": [
        ""
      ],
      "execution_count": null,
      "outputs": []
    }
  ]
}